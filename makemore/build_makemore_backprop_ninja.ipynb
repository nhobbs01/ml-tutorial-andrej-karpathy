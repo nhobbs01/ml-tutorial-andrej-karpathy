{
 "cells": [
  {
   "cell_type": "markdown",
   "metadata": {
    "id": "rToK0Tku8PPn"
   },
   "source": [
    "## makemore: becoming a backprop ninja"
   ]
  },
  {
   "cell_type": "code",
   "execution_count": null,
   "metadata": {
    "id": "8sFElPqq8PPp"
   },
   "outputs": [],
   "source": [
    "# there no change change in the first several cells from last lecture"
   ]
  },
  {
   "cell_type": "code",
   "execution_count": 1,
   "metadata": {
    "id": "ChBbac4y8PPq"
   },
   "outputs": [],
   "source": [
    "import torch\n",
    "import torch.nn.functional as F\n",
    "import matplotlib.pyplot as plt # for making figures\n",
    "%matplotlib inline"
   ]
  },
  {
   "cell_type": "code",
   "execution_count": 2,
   "metadata": {
    "id": "klmu3ZG08PPr"
   },
   "outputs": [
    {
     "name": "stdout",
     "output_type": "stream",
     "text": [
      "32033\n",
      "15\n",
      "['emma', 'olivia', 'ava', 'isabella', 'sophia', 'charlotte', 'mia', 'amelia']\n"
     ]
    }
   ],
   "source": [
    "# read in all the words\n",
    "words = open('names.txt', 'r').read().splitlines()\n",
    "print(len(words))\n",
    "print(max(len(w) for w in words))\n",
    "print(words[:8])"
   ]
  },
  {
   "cell_type": "code",
   "execution_count": 3,
   "metadata": {
    "id": "BCQomLE_8PPs"
   },
   "outputs": [
    {
     "name": "stdout",
     "output_type": "stream",
     "text": [
      "{1: 'a', 2: 'b', 3: 'c', 4: 'd', 5: 'e', 6: 'f', 7: 'g', 8: 'h', 9: 'i', 10: 'j', 11: 'k', 12: 'l', 13: 'm', 14: 'n', 15: 'o', 16: 'p', 17: 'q', 18: 'r', 19: 's', 20: 't', 21: 'u', 22: 'v', 23: 'w', 24: 'x', 25: 'y', 26: 'z', 0: '.'}\n",
      "27\n"
     ]
    }
   ],
   "source": [
    "# build the vocabulary of characters and mappings to/from integers\n",
    "chars = sorted(list(set(''.join(words))))\n",
    "stoi = {s:i+1 for i,s in enumerate(chars)}\n",
    "stoi['.'] = 0\n",
    "itos = {i:s for s,i in stoi.items()}\n",
    "vocab_size = len(itos)\n",
    "print(itos)\n",
    "print(vocab_size)"
   ]
  },
  {
   "cell_type": "code",
   "execution_count": 4,
   "metadata": {
    "id": "V_zt2QHr8PPs"
   },
   "outputs": [
    {
     "name": "stdout",
     "output_type": "stream",
     "text": [
      "torch.Size([182625, 3]) torch.Size([182625])\n",
      "torch.Size([22655, 3]) torch.Size([22655])\n",
      "torch.Size([22866, 3]) torch.Size([22866])\n"
     ]
    }
   ],
   "source": [
    "# build the dataset\n",
    "block_size = 3 # context length: how many characters do we take to predict the next one?\n",
    "\n",
    "def build_dataset(words):\n",
    "  X, Y = [], []\n",
    "\n",
    "  for w in words:\n",
    "    context = [0] * block_size\n",
    "    for ch in w + '.':\n",
    "      ix = stoi[ch]\n",
    "      X.append(context)\n",
    "      Y.append(ix)\n",
    "      context = context[1:] + [ix] # crop and append\n",
    "\n",
    "  X = torch.tensor(X)\n",
    "  Y = torch.tensor(Y)\n",
    "  print(X.shape, Y.shape)\n",
    "  return X, Y\n",
    "\n",
    "import random\n",
    "random.seed(42)\n",
    "random.shuffle(words)\n",
    "n1 = int(0.8*len(words))\n",
    "n2 = int(0.9*len(words))\n",
    "\n",
    "Xtr,  Ytr  = build_dataset(words[:n1])     # 80%\n",
    "Xdev, Ydev = build_dataset(words[n1:n2])   # 10%\n",
    "Xte,  Yte  = build_dataset(words[n2:])     # 10%"
   ]
  },
  {
   "cell_type": "code",
   "execution_count": 5,
   "metadata": {
    "id": "eg20-vsg8PPt"
   },
   "outputs": [],
   "source": [
    "# ok biolerplate done, now we get to the action:"
   ]
  },
  {
   "cell_type": "code",
   "execution_count": 6,
   "metadata": {
    "id": "MJPU8HT08PPu"
   },
   "outputs": [],
   "source": [
    "# utility function we will use later when comparing manual gradients to PyTorch gradients\n",
    "def cmp(s, dt, t):\n",
    "  ex = torch.all(dt == t.grad).item()\n",
    "  app = torch.allclose(dt, t.grad)\n",
    "  maxdiff = (dt - t.grad).abs().max().item()\n",
    "  print(f'{s:15s} | exact: {str(ex):5s} | approximate: {str(app):5s} | maxdiff: {maxdiff}')"
   ]
  },
  {
   "cell_type": "code",
   "execution_count": 551,
   "metadata": {
    "id": "ZlFLjQyT8PPu"
   },
   "outputs": [
    {
     "name": "stdout",
     "output_type": "stream",
     "text": [
      "4137\n"
     ]
    }
   ],
   "source": [
    "n_embd = 10 # the dimensionality of the character embedding vectors\n",
    "n_hidden = 64 # the number of neurons in the hidden layer of the MLP\n",
    "\n",
    "g = torch.Generator().manual_seed(2147483647) # for reproducibility\n",
    "C  = torch.randn((vocab_size, n_embd),            generator=g)\n",
    "# Layer 1\n",
    "W1 = torch.randn((n_embd * block_size, n_hidden), generator=g) * (5/3)/((n_embd * block_size)**0.5)\n",
    "b1 = torch.randn(n_hidden,                        generator=g) * 0.1 # using b1 just for fun, it's useless because of BN\n",
    "# Layer 2\n",
    "W2 = torch.randn((n_hidden, vocab_size),          generator=g) * 0.1\n",
    "b2 = torch.randn(vocab_size,                      generator=g) * 0.1\n",
    "# BatchNorm parameters\n",
    "bngain = torch.randn((1, n_hidden))*0.1 + 1.0\n",
    "bnbias = torch.randn((1, n_hidden))*0.1\n",
    "\n",
    "# Note: I am initializating many of these parameters in non-standard ways\n",
    "# because sometimes initializating with e.g. all zeros could mask an incorrect\n",
    "# implementation of the backward pass.\n",
    "\n",
    "parameters = [C, W1, b1, W2, b2, bngain, bnbias]\n",
    "print(sum(p.nelement() for p in parameters)) # number of parameters in total\n",
    "for p in parameters:\n",
    "  p.requires_grad = True"
   ]
  },
  {
   "cell_type": "code",
   "execution_count": 552,
   "metadata": {
    "id": "QY-y96Y48PPv"
   },
   "outputs": [],
   "source": [
    "batch_size = 32\n",
    "n = batch_size # a shorter variable also, for convenience\n",
    "# construct a minibatch\n",
    "ix = torch.randint(0, Xtr.shape[0], (batch_size,), generator=g)\n",
    "Xb, Yb = Xtr[ix], Ytr[ix] # batch X,Y"
   ]
  },
  {
   "cell_type": "code",
   "execution_count": 553,
   "metadata": {
    "id": "8ofj1s6d8PPv"
   },
   "outputs": [
    {
     "data": {
      "text/plain": [
       "tensor(3.3555, grad_fn=<NegBackward0>)"
      ]
     },
     "execution_count": 553,
     "metadata": {},
     "output_type": "execute_result"
    }
   ],
   "source": [
    "# forward pass, \"chunkated\" into smaller steps that are possible to backward one at a time\n",
    "\n",
    "emb = C[Xb] # embed the characters into vectors / can re-write as X @ C where x is one hot encodings of Xb\n",
    "embcat = emb.view(emb.shape[0], -1) # concatenate the vectors\n",
    "# Linear layer 1\n",
    "hprebn = embcat @ W1 + b1 # hidden layer pre-activation\n",
    "# BatchNorm layer\n",
    "bnmeani = 1/n*hprebn.sum(0, keepdim=True)\n",
    "bndiff = hprebn - bnmeani\n",
    "bndiff2 = bndiff**2\n",
    "bnvar = 1/(n-1)*(bndiff2).sum(0, keepdim=True) # note: Bessel's correction (dividing by n-1, not n)\n",
    "bnvar_inv = (bnvar + 1e-5)**-0.5\n",
    "bnraw = bndiff * bnvar_inv\n",
    "hpreact = bngain * bnraw + bnbias\n",
    "# Non-linearity\n",
    "h = torch.tanh(hpreact) # hidden layer\n",
    "# Linear layer 2\n",
    "logits = h @ W2 + b2 # output layer\n",
    "# cross entropy loss (same as F.cross_entropy(logits, Yb))\n",
    "logit_maxes = logits.max(1, keepdim=True).values\n",
    "norm_logits = logits - logit_maxes # subtract max for numerical stability\n",
    "counts = norm_logits.exp()\n",
    "counts_sum = counts.sum(1, keepdims=True)\n",
    "counts_sum_inv = counts_sum**-1 # if I use (1.0 / counts_sum) instead then I can't get backprop to be bit exact...\n",
    "probs = counts * counts_sum_inv\n",
    "logprobs = probs.log()\n",
    "loss = -logprobs[range(n), Yb].mean()\n",
    "\n",
    "# PyTorch backward pass\n",
    "for p in parameters:\n",
    "  p.grad = None\n",
    "for t in [logprobs, probs, counts, counts_sum, counts_sum_inv, # afaik there is no cleaner way\n",
    "          norm_logits, logit_maxes, logits, h, hpreact, bnraw,\n",
    "         bnvar_inv, bnvar, bndiff2, bndiff, hprebn, bnmeani,\n",
    "         embcat, emb]:\n",
    "  t.retain_grad()\n",
    "loss.backward()\n",
    "loss"
   ]
  },
  {
   "cell_type": "code",
   "execution_count": 640,
   "metadata": {},
   "outputs": [
    {
     "data": {
      "text/plain": [
       "(torch.Size([32, 27]), torch.Size([32, 3, 10]))"
      ]
     },
     "execution_count": 640,
     "metadata": {},
     "output_type": "execute_result"
    }
   ],
   "source": [
    "(XB1.sum(1)/n).shape, emb.shape"
   ]
  },
  {
   "cell_type": "code",
   "execution_count": 644,
   "metadata": {},
   "outputs": [
    {
     "data": {
      "text/plain": [
       "tensor([[ 9.3986e+01, -8.6013e+00, -1.5925e+01, -7.4902e+01,  1.7031e+01,\n",
       "          2.1202e+01, -8.1701e+01,  3.8371e+01,  5.1945e+00,  4.4975e+01],\n",
       "        [ 2.3010e+00,  9.2025e+00, -1.1742e+01, -1.5565e+01,  1.6209e+01,\n",
       "          5.4087e+01,  2.1808e+01, -2.0587e+01,  1.3976e+01, -1.5654e+01],\n",
       "        [ 0.0000e+00,  0.0000e+00,  0.0000e+00,  0.0000e+00,  0.0000e+00,\n",
       "          0.0000e+00,  0.0000e+00,  0.0000e+00,  0.0000e+00,  0.0000e+00],\n",
       "        [-4.8864e-01,  8.7431e-01,  1.2088e+00, -4.7711e-01, -1.4456e-01,\n",
       "         -4.9475e-01, -1.1922e+00,  1.2697e+00, -2.1372e+00, -7.8164e-02],\n",
       "        [-1.0578e+00,  1.9927e+00, -1.5418e+00, -3.6678e+00,  8.5932e-01,\n",
       "          1.1108e+01,  3.7606e+00, -1.8197e+00,  1.4415e+00, -6.7151e+00],\n",
       "        [ 6.1834e+00,  8.3702e+00,  3.3359e+00, -2.1429e+01, -2.9265e+00,\n",
       "         -2.6766e+00, -2.2092e+00,  9.5825e+00, -1.0147e+01, -1.2636e+01],\n",
       "        [ 0.0000e+00,  0.0000e+00,  0.0000e+00,  0.0000e+00,  0.0000e+00,\n",
       "          0.0000e+00,  0.0000e+00,  0.0000e+00,  0.0000e+00,  0.0000e+00],\n",
       "        [ 3.7516e+00,  1.0414e+00, -1.0995e+00, -2.8657e+00, -1.5214e-01,\n",
       "          1.6914e+00, -2.9188e+00,  2.2026e+00, -4.6960e-01,  1.8863e+00],\n",
       "        [-3.0056e+00,  1.2022e+00, -3.0333e-01, -3.8519e+00,  5.4592e-01,\n",
       "          3.8243e-01,  3.7636e-01, -2.1891e+00, -1.0857e+00,  1.1650e+00],\n",
       "        [-5.6956e+00,  2.4133e+00,  1.4166e+00, -1.2122e+01, -7.8473e-01,\n",
       "          7.6253e+00, -1.1329e+00, -3.4952e+00, -5.1208e+00,  1.3548e-01],\n",
       "        [ 7.7292e-02, -2.8824e-01, -2.4615e+00, -1.7942e+00, -5.6059e-02,\n",
       "          2.5659e+00, -1.8115e+00, -1.8601e+00, -8.1597e-01,  5.2218e-01],\n",
       "        [-2.1768e-01,  2.2728e+00, -3.5286e-01, -6.7624e+00, -1.5407e+00,\n",
       "          5.2159e-01, -5.8956e+00,  1.9589e+00, -2.3043e+00,  2.2146e+00],\n",
       "        [-1.4216e+00,  1.3111e+00, -8.3566e-01, -9.3116e+00,  7.6644e-02,\n",
       "          2.9107e+00, -3.0049e+00, -1.5675e+00, -2.6960e+00,  2.2842e+00],\n",
       "        [-1.2132e+00, -8.0900e-02, -1.0712e+01, -1.2442e+01,  4.6748e+00,\n",
       "          8.9955e+00,  8.3246e+00, -1.5452e+00,  6.0420e+00,  1.4137e+01],\n",
       "        [ 5.1371e+00, -1.7813e+00,  7.9004e-02, -9.4982e+00,  3.3654e+00,\n",
       "          1.6959e+01, -2.2717e+00, -2.6377e-02, -8.6111e+00, -5.1592e+00],\n",
       "        [ 7.7770e+00, -1.2079e+00, -6.4166e+00, -4.6752e-01, -3.3392e-01,\n",
       "          6.5489e+00, -4.9390e+00,  6.0205e+00, -7.0820e+00, -4.5298e-01],\n",
       "        [ 0.0000e+00,  0.0000e+00,  0.0000e+00,  0.0000e+00,  0.0000e+00,\n",
       "          0.0000e+00,  0.0000e+00,  0.0000e+00,  0.0000e+00,  0.0000e+00],\n",
       "        [ 2.8000e+00,  1.2916e+00,  6.1788e-01, -1.2335e+00,  1.3691e+00,\n",
       "          2.5881e+00, -8.6426e-01, -9.1455e-01,  2.6161e+00,  1.1998e-01],\n",
       "        [ 1.4366e+01, -1.3998e-01, -8.6187e+00, -4.9548e+00,  3.7236e+00,\n",
       "          7.2184e+00,  4.1184e+00,  7.2801e+00,  4.3785e-01, -1.1151e+01],\n",
       "        [-1.8497e+00,  3.5017e-01, -1.2532e+00, -1.2071e+00, -5.8089e-01,\n",
       "          8.2626e-01,  8.8032e-01, -1.0903e+00, -7.6468e-01,  2.0174e+00],\n",
       "        [ 9.0912e-01,  3.0525e+00,  1.3325e+00, -6.0220e-01,  2.8518e-01,\n",
       "          2.6709e+00,  2.7561e+00, -1.8908e+00,  3.3404e-01, -3.0835e+00],\n",
       "        [ 0.0000e+00,  0.0000e+00,  0.0000e+00,  0.0000e+00,  0.0000e+00,\n",
       "          0.0000e+00,  0.0000e+00,  0.0000e+00,  0.0000e+00,  0.0000e+00],\n",
       "        [ 2.3522e+00, -1.2740e+00, -1.6096e+00,  1.1919e+00, -3.5452e-02,\n",
       "          1.9581e+00, -5.1316e-01,  1.7708e+00, -3.6178e+00, -1.4162e+00],\n",
       "        [ 0.0000e+00,  0.0000e+00,  0.0000e+00,  0.0000e+00,  0.0000e+00,\n",
       "          0.0000e+00,  0.0000e+00,  0.0000e+00,  0.0000e+00,  0.0000e+00],\n",
       "        [ 0.0000e+00,  0.0000e+00,  0.0000e+00,  0.0000e+00,  0.0000e+00,\n",
       "          0.0000e+00,  0.0000e+00,  0.0000e+00,  0.0000e+00,  0.0000e+00],\n",
       "        [-3.0056e+00,  1.2022e+00, -3.0333e-01, -3.8519e+00,  5.4592e-01,\n",
       "          3.8243e-01,  3.7636e-01, -2.1891e+00, -1.0857e+00,  1.1650e+00],\n",
       "        [ 2.6388e+00, -6.2204e-01, -1.1468e+00, -3.4363e+00,  2.2645e-01,\n",
       "         -8.5778e-01, -3.4325e+00,  4.9719e+00, -1.6845e+00,  5.7212e-01]],\n",
       "       grad_fn=<MmBackward0>)"
      ]
     },
     "execution_count": 644,
     "metadata": {},
     "output_type": "execute_result"
    }
   ],
   "source": [
    "XB1.sum(1).T @ emb.sum(1)"
   ]
  },
  {
   "cell_type": "code",
   "execution_count": 620,
   "metadata": {},
   "outputs": [
    {
     "data": {
      "text/plain": [
       "(torch.Size([27, 10]), torch.Size([32, 3, 27]), torch.Size([32, 3, 10]))"
      ]
     },
     "execution_count": 620,
     "metadata": {},
     "output_type": "execute_result"
    }
   ],
   "source": [
    "C.shape, XB1.shape, emb.shape"
   ]
  },
  {
   "cell_type": "code",
   "execution_count": 558,
   "metadata": {},
   "outputs": [
    {
     "data": {
      "text/plain": [
       "tensor([[ 1,  1,  4],\n",
       "        [18, 14,  1],\n",
       "        [11,  5,  9],\n",
       "        [ 0,  0,  1],\n",
       "        [12, 15, 14],\n",
       "        [ 0, 17,  1],\n",
       "        [ 0,  0, 13],\n",
       "        [13, 13,  1],\n",
       "        [ 8, 25, 12],\n",
       "        [ 0,  0, 26],\n",
       "        [22, 15, 14],\n",
       "        [19, 13,  9],\n",
       "        [ 0,  0,  0],\n",
       "        [ 0,  4,  5],\n",
       "        [ 5, 14,  9],\n",
       "        [18,  5,  5],\n",
       "        [ 0,  4,  1],\n",
       "        [ 1, 18,  1],\n",
       "        [ 0,  0,  0],\n",
       "        [ 0,  5, 12],\n",
       "        [ 0, 10,  1],\n",
       "        [ 9, 14,  1],\n",
       "        [ 0,  0,  0],\n",
       "        [ 0,  0, 18],\n",
       "        [20,  5,  1],\n",
       "        [ 0, 11, 15],\n",
       "        [ 0,  0,  7],\n",
       "        [ 0, 18,  5],\n",
       "        [26,  5, 18],\n",
       "        [ 0,  0, 14],\n",
       "        [ 3,  5, 14],\n",
       "        [ 0, 18, 15]])"
      ]
     },
     "execution_count": 558,
     "metadata": {},
     "output_type": "execute_result"
    }
   ],
   "source": [
    "Xb"
   ]
  },
  {
   "cell_type": "code",
   "execution_count": 568,
   "metadata": {},
   "outputs": [],
   "source": [
    "XB1 = F.one_hot(Xb,  num_classes=27).float()"
   ]
  },
  {
   "cell_type": "code",
   "execution_count": 592,
   "metadata": {},
   "outputs": [
    {
     "data": {
      "text/plain": [
       "(torch.Size([27, 3, 32]), torch.Size([32, 3, 10]))"
      ]
     },
     "execution_count": 592,
     "metadata": {},
     "output_type": "execute_result"
    }
   ],
   "source": [
    "XB1.T.shape, emb.shape"
   ]
  },
  {
   "cell_type": "code",
   "execution_count": 599,
   "metadata": {},
   "outputs": [
    {
     "data": {
      "text/plain": [
       "torch.Size([27, 10])"
      ]
     },
     "execution_count": 599,
     "metadata": {},
     "output_type": "execute_result"
    }
   ],
   "source": [
    "C.shape"
   ]
  },
  {
   "cell_type": "code",
   "execution_count": 598,
   "metadata": {},
   "outputs": [
    {
     "data": {
      "text/plain": [
       "torch.Size([27, 3, 10])"
      ]
     },
     "execution_count": 598,
     "metadata": {},
     "output_type": "execute_result"
    }
   ],
   "source": [
    "(XB1.T @ emb.sum(1)).shape"
   ]
  },
  {
   "cell_type": "code",
   "execution_count": 572,
   "metadata": {},
   "outputs": [
    {
     "data": {
      "text/plain": [
       "torch.Size([32, 3, 10])"
      ]
     },
     "execution_count": 572,
     "metadata": {},
     "output_type": "execute_result"
    }
   ],
   "source": [
    "emb.shape"
   ]
  },
  {
   "cell_type": "code",
   "execution_count": 576,
   "metadata": {},
   "outputs": [
    {
     "data": {
      "text/plain": [
       "(torch.Size([32, 27]), torch.Size([32, 10]))"
      ]
     },
     "execution_count": 576,
     "metadata": {},
     "output_type": "execute_result"
    }
   ],
   "source": [
    "XB1.sum(1).shape, emb.sum(1).shape"
   ]
  },
  {
   "cell_type": "code",
   "execution_count": 582,
   "metadata": {},
   "outputs": [
    {
     "data": {
      "text/plain": [
       "(torch.Size([27, 3, 32]), torch.Size([32, 3, 10]))"
      ]
     },
     "execution_count": 582,
     "metadata": {},
     "output_type": "execute_result"
    }
   ],
   "source": [
    "XB1.T.shape, emb.shape"
   ]
  },
  {
   "cell_type": "code",
   "execution_count": 586,
   "metadata": {},
   "outputs": [
    {
     "data": {
      "text/plain": [
       "torch.Size([27, 10])"
      ]
     },
     "execution_count": 586,
     "metadata": {},
     "output_type": "execute_result"
    }
   ],
   "source": [
    "C.shape"
   ]
  },
  {
   "cell_type": "code",
   "execution_count": 585,
   "metadata": {},
   "outputs": [
    {
     "data": {
      "text/plain": [
       "(torch.Size([10, 3, 32]), torch.Size([32, 3, 27]))"
      ]
     },
     "execution_count": 585,
     "metadata": {},
     "output_type": "execute_result"
    }
   ],
   "source": [
    "emb.T.shape, XB1.shape"
   ]
  },
  {
   "cell_type": "code",
   "execution_count": 589,
   "metadata": {},
   "outputs": [
    {
     "data": {
      "text/plain": [
       "torch.Size([27, 10])"
      ]
     },
     "execution_count": 589,
     "metadata": {},
     "output_type": "execute_result"
    }
   ],
   "source": [
    "C.shape"
   ]
  },
  {
   "cell_type": "code",
   "execution_count": 588,
   "metadata": {},
   "outputs": [
    {
     "data": {
      "text/plain": [
       "torch.Size([27, 10])"
      ]
     },
     "execution_count": 588,
     "metadata": {},
     "output_type": "execute_result"
    }
   ],
   "source": [
    "(XB1.sum(1).T @ emb.sum(1)).shape"
   ]
  },
  {
   "cell_type": "code",
   "execution_count": 498,
   "metadata": {},
   "outputs": [
    {
     "data": {
      "text/plain": [
       "tensor([[[[ 1.2815e+00, -6.3182e-01, -1.2464e+00,  ...,  8.6726e-01,\n",
       "            6.3149e-01, -1.2230e+00],\n",
       "          [ 4.6827e-01, -6.5650e-01,  6.1662e-01,  ..., -4.5585e-01,\n",
       "           -1.3132e-03, -5.1161e-01],\n",
       "          [-4.7125e-01,  7.8682e-01, -3.2843e-01,  ..., -1.6261e+00,\n",
       "            6.7716e-01, -8.4039e-01]],\n",
       "\n",
       "         [[ 1.2815e+00, -6.3182e-01, -1.2464e+00,  ...,  8.6726e-01,\n",
       "            6.3149e-01, -1.2230e+00],\n",
       "          [ 4.6827e-01, -6.5650e-01,  6.1662e-01,  ..., -4.5585e-01,\n",
       "           -1.3132e-03, -5.1161e-01],\n",
       "          [-4.7125e-01,  7.8682e-01, -3.2843e-01,  ..., -1.6261e+00,\n",
       "            6.7716e-01, -8.4039e-01]],\n",
       "\n",
       "         [[-5.6144e-01, -1.3753e-01, -1.3799e-01,  ..., -5.1029e-01,\n",
       "            5.6421e-01,  9.6838e-01],\n",
       "          [ 5.5570e-01,  4.7458e-01, -1.3867e+00,  ...,  1.0198e+00,\n",
       "           -1.9062e+00, -4.2753e-01],\n",
       "          [ 4.6827e-01, -6.5650e-01,  6.1662e-01,  ..., -4.5585e-01,\n",
       "           -1.3132e-03, -5.1161e-01]]],\n",
       "\n",
       "\n",
       "        [[[ 1.5674e+00, -2.3729e-01, -2.7385e-02,  ...,  6.0489e-01,\n",
       "            7.9136e-02,  9.0462e-01],\n",
       "          [ 1.5674e+00, -2.3729e-01, -2.7385e-02,  ...,  6.0489e-01,\n",
       "            7.9136e-02,  9.0462e-01],\n",
       "          [ 1.5674e+00, -2.3729e-01, -2.7385e-02,  ...,  6.0489e-01,\n",
       "            7.9136e-02,  9.0462e-01]],\n",
       "\n",
       "         [[ 1.1560e-01,  8.0319e-01,  5.4108e-01,  ...,  4.7328e-01,\n",
       "           -9.1027e-01, -7.8305e-01],\n",
       "          [ 4.6827e-01, -6.5650e-01,  6.1662e-01,  ..., -4.5585e-01,\n",
       "           -1.3132e-03, -5.1161e-01],\n",
       "          [-1.3257e+00,  1.4670e-01,  1.6913e-01,  ..., -2.9771e-01,\n",
       "           -1.3707e+00,  1.1500e-01]],\n",
       "\n",
       "         [[ 1.2815e+00, -6.3182e-01, -1.2464e+00,  ...,  8.6726e-01,\n",
       "            6.3149e-01, -1.2230e+00],\n",
       "          [ 4.6827e-01, -6.5650e-01,  6.1662e-01,  ..., -4.5585e-01,\n",
       "           -1.3132e-03, -5.1161e-01],\n",
       "          [-4.7125e-01,  7.8682e-01, -3.2843e-01,  ..., -1.6261e+00,\n",
       "            6.7716e-01, -8.4039e-01]]],\n",
       "\n",
       "\n",
       "        [[[-2.1286e-01,  5.0950e-01,  3.2713e-01,  ..., -1.1100e+00,\n",
       "           -4.5285e-01, -4.9578e-01],\n",
       "          [-3.1114e-01, -3.0603e-01, -1.7495e+00,  ...,  3.1748e-01,\n",
       "            1.0588e+00,  2.3982e+00],\n",
       "          [-1.3257e+00,  1.4670e-01,  1.6913e-01,  ..., -2.9771e-01,\n",
       "           -1.3707e+00,  1.1500e-01]],\n",
       "\n",
       "         [[ 1.5674e+00, -2.3729e-01, -2.7385e-02,  ...,  6.0489e-01,\n",
       "            7.9136e-02,  9.0462e-01],\n",
       "          [ 1.7039e+00,  7.4204e-01,  9.7370e-01,  ...,  1.0661e-01,\n",
       "            1.8598e+00,  5.5752e-02],\n",
       "          [-4.7125e-01,  7.8682e-01, -3.2843e-01,  ..., -1.6261e+00,\n",
       "            6.7716e-01, -8.4039e-01]],\n",
       "\n",
       "         [[ 1.5674e+00, -2.3729e-01, -2.7385e-02,  ...,  6.0489e-01,\n",
       "            7.9136e-02,  9.0462e-01],\n",
       "          [ 1.5674e+00, -2.3729e-01, -2.7385e-02,  ...,  6.0489e-01,\n",
       "            7.9136e-02,  9.0462e-01],\n",
       "          [-9.4649e-01, -1.5941e-01, -1.9336e-01,  ...,  1.2108e+00,\n",
       "           -7.8198e-01,  3.8449e-01]]],\n",
       "\n",
       "\n",
       "        ...,\n",
       "\n",
       "\n",
       "        [[[-4.7125e-01,  7.8682e-01, -3.2843e-01,  ..., -1.6261e+00,\n",
       "            6.7716e-01, -8.4039e-01],\n",
       "          [-4.7125e-01,  7.8682e-01, -3.2843e-01,  ..., -1.6261e+00,\n",
       "            6.7716e-01, -8.4039e-01],\n",
       "          [-9.6478e-01, -2.3211e-01, -3.4762e-01,  ...,  4.5846e-01,\n",
       "            5.4011e-02, -1.7400e+00]],\n",
       "\n",
       "         [[-4.7125e-01,  7.8682e-01, -3.2843e-01,  ..., -1.6261e+00,\n",
       "            6.7716e-01, -8.4039e-01],\n",
       "          [-4.7125e-01,  7.8682e-01, -3.2843e-01,  ..., -1.6261e+00,\n",
       "            6.7716e-01, -8.4039e-01],\n",
       "          [-9.6478e-01, -2.3211e-01, -3.4762e-01,  ...,  4.5846e-01,\n",
       "            5.4011e-02, -1.7400e+00]],\n",
       "\n",
       "         [[ 1.1560e-01,  8.0319e-01,  5.4108e-01,  ...,  4.7328e-01,\n",
       "           -9.1027e-01, -7.8305e-01],\n",
       "          [ 4.6827e-01, -6.5650e-01,  6.1662e-01,  ..., -4.5585e-01,\n",
       "           -1.3132e-03, -5.1161e-01],\n",
       "          [-1.3257e+00,  1.4670e-01,  1.6913e-01,  ..., -2.9771e-01,\n",
       "           -1.3707e+00,  1.1500e-01]]],\n",
       "\n",
       "\n",
       "        [[[ 1.5674e+00, -2.3729e-01, -2.7385e-02,  ...,  6.0489e-01,\n",
       "            7.9136e-02,  9.0462e-01],\n",
       "          [ 1.5674e+00, -2.3729e-01, -2.7385e-02,  ...,  6.0489e-01,\n",
       "            7.9136e-02,  9.0462e-01],\n",
       "          [-4.7125e-01,  7.8682e-01, -3.2843e-01,  ..., -1.6261e+00,\n",
       "            6.7716e-01, -8.4039e-01]],\n",
       "\n",
       "         [[ 1.5674e+00, -2.3729e-01, -2.7385e-02,  ...,  6.0489e-01,\n",
       "            7.9136e-02,  9.0462e-01],\n",
       "          [ 1.7039e+00,  7.4204e-01,  9.7370e-01,  ...,  1.0661e-01,\n",
       "            1.8598e+00,  5.5752e-02],\n",
       "          [-4.7125e-01,  7.8682e-01, -3.2843e-01,  ..., -1.6261e+00,\n",
       "            6.7716e-01, -8.4039e-01]],\n",
       "\n",
       "         [[ 1.1560e-01,  8.0319e-01,  5.4108e-01,  ...,  4.7328e-01,\n",
       "           -9.1027e-01, -7.8305e-01],\n",
       "          [ 4.6827e-01, -6.5650e-01,  6.1662e-01,  ..., -4.5585e-01,\n",
       "           -1.3132e-03, -5.1161e-01],\n",
       "          [-1.3257e+00,  1.4670e-01,  1.6913e-01,  ..., -2.9771e-01,\n",
       "           -1.3707e+00,  1.1500e-01]]],\n",
       "\n",
       "\n",
       "        [[[-4.7125e-01,  7.8682e-01, -3.2843e-01,  ..., -1.6261e+00,\n",
       "            6.7716e-01, -8.4039e-01],\n",
       "          [-4.7125e-01,  7.8682e-01, -3.2843e-01,  ..., -1.6261e+00,\n",
       "            6.7716e-01, -8.4039e-01],\n",
       "          [-9.6478e-01, -2.3211e-01, -3.4762e-01,  ...,  4.5846e-01,\n",
       "            5.4011e-02, -1.7400e+00]],\n",
       "\n",
       "         [[ 1.5674e+00, -2.3729e-01, -2.7385e-02,  ...,  6.0489e-01,\n",
       "            7.9136e-02,  9.0462e-01],\n",
       "          [ 1.5674e+00, -2.3729e-01, -2.7385e-02,  ...,  6.0489e-01,\n",
       "            7.9136e-02,  9.0462e-01],\n",
       "          [ 1.5674e+00, -2.3729e-01, -2.7385e-02,  ...,  6.0489e-01,\n",
       "            7.9136e-02,  9.0462e-01]],\n",
       "\n",
       "         [[ 1.2815e+00, -6.3182e-01, -1.2464e+00,  ...,  8.6726e-01,\n",
       "            6.3149e-01, -1.2230e+00],\n",
       "          [ 1.1560e-01,  8.0319e-01,  5.4108e-01,  ...,  4.7328e-01,\n",
       "           -9.1027e-01, -7.8305e-01],\n",
       "          [ 1.1560e-01,  8.0319e-01,  5.4108e-01,  ...,  4.7328e-01,\n",
       "           -9.1027e-01, -7.8305e-01]]]], grad_fn=<IndexBackward0>)"
      ]
     },
     "execution_count": 498,
     "metadata": {},
     "output_type": "execute_result"
    }
   ],
   "source": [
    "emb[Xb]"
   ]
  },
  {
   "cell_type": "code",
   "execution_count": 524,
   "metadata": {},
   "outputs": [
    {
     "ename": "RuntimeError",
     "evalue": "mat1 and mat2 shapes cannot be multiplied (1024x3 and 10x27)",
     "output_type": "error",
     "traceback": [
      "\u001b[1;31m---------------------------------------------------------------------------\u001b[0m",
      "\u001b[1;31mRuntimeError\u001b[0m                              Traceback (most recent call last)",
      "Cell \u001b[1;32mIn[524], line 1\u001b[0m\n\u001b[1;32m----> 1\u001b[0m \u001b[43mC\u001b[49m\u001b[43m \u001b[49m\u001b[38;5;241;43m@\u001b[39;49m\u001b[43m \u001b[49m\u001b[43mF\u001b[49m\u001b[38;5;241;43m.\u001b[39;49m\u001b[43mone_hot\u001b[49m\u001b[43m(\u001b[49m\u001b[43mXb\u001b[49m\u001b[43m,\u001b[49m\u001b[43m  \u001b[49m\u001b[43mnum_classes\u001b[49m\u001b[38;5;241;43m=\u001b[39;49m\u001b[43mn\u001b[49m\u001b[43m)\u001b[49m\n",
      "\u001b[1;31mRuntimeError\u001b[0m: mat1 and mat2 shapes cannot be multiplied (1024x3 and 10x27)"
     ]
    }
   ],
   "source": [
    "C @ F.one_hot(Xb,  num_classes=n)"
   ]
  },
  {
   "cell_type": "code",
   "execution_count": 527,
   "metadata": {},
   "outputs": [
    {
     "data": {
      "text/plain": [
       "(torch.Size([32, 3, 32]), torch.Size([32, 3, 10]))"
      ]
     },
     "execution_count": 527,
     "metadata": {},
     "output_type": "execute_result"
    }
   ],
   "source": [
    "F.one_hot(Xb,  num_classes=n).shape, emb.shape"
   ]
  },
  {
   "cell_type": "code",
   "execution_count": 639,
   "metadata": {},
   "outputs": [
    {
     "data": {
      "text/plain": [
       "torch.Size([32, 10])"
      ]
     },
     "execution_count": 639,
     "metadata": {},
     "output_type": "execute_result"
    }
   ],
   "source": [
    "emb.sum(1).shape"
   ]
  },
  {
   "cell_type": "code",
   "execution_count": 636,
   "metadata": {},
   "outputs": [
    {
     "data": {
      "text/plain": [
       "(torch.Size([32, 3, 27]), torch.Size([27, 10]), torch.Size([32, 3, 10]))"
      ]
     },
     "execution_count": 636,
     "metadata": {},
     "output_type": "execute_result"
    }
   ],
   "source": [
    "XB1.shape, C.shape, emb.shape"
   ]
  },
  {
   "cell_type": "code",
   "execution_count": 618,
   "metadata": {},
   "outputs": [
    {
     "data": {
      "text/plain": [
       "tensor(True)"
      ]
     },
     "execution_count": 618,
     "metadata": {},
     "output_type": "execute_result"
    }
   ],
   "source": [
    "(XB1 @ C == C[Xb]).all()"
   ]
  },
  {
   "cell_type": "code",
   "execution_count": 677,
   "metadata": {},
   "outputs": [
    {
     "ename": "RuntimeError",
     "evalue": "Expected size for first two dimensions of batch2 tensor to be: [32, 32] but got: [32, 3].",
     "output_type": "error",
     "traceback": [
      "\u001b[1;31m---------------------------------------------------------------------------\u001b[0m",
      "\u001b[1;31mRuntimeError\u001b[0m                              Traceback (most recent call last)",
      "Cell \u001b[1;32mIn[677], line 1\u001b[0m\n\u001b[1;32m----> 1\u001b[0m \u001b[43mXB1\u001b[49m\u001b[38;5;241;43m.\u001b[39;49m\u001b[43msum\u001b[49m\u001b[43m(\u001b[49m\u001b[38;5;241;43m1\u001b[39;49m\u001b[43m)\u001b[49m\u001b[38;5;241;43m.\u001b[39;49m\u001b[43mT\u001b[49m\u001b[43m \u001b[49m\u001b[38;5;241;43m@\u001b[39;49m\u001b[43m \u001b[49m\u001b[43memb\u001b[49m\n",
      "\u001b[1;31mRuntimeError\u001b[0m: Expected size for first two dimensions of batch2 tensor to be: [32, 32] but got: [32, 3]."
     ]
    }
   ],
   "source": [
    "XB1.sum(1).T @ emb"
   ]
  },
  {
   "cell_type": "code",
   "execution_count": 674,
   "metadata": {},
   "outputs": [
    {
     "data": {
      "text/plain": [
       "(torch.Size([32, 3, 10]), torch.Size([3, 27]))"
      ]
     },
     "execution_count": 674,
     "metadata": {},
     "output_type": "execute_result"
    }
   ],
   "source": [
    "emb.shape, XB1.sum(0).shape"
   ]
  },
  {
   "cell_type": "code",
   "execution_count": 682,
   "metadata": {
    "id": "mO-8aqxK8PPw"
   },
   "outputs": [
    {
     "name": "stdout",
     "output_type": "stream",
     "text": [
      "logprobs        | exact: True  | approximate: True  | maxdiff: 0.0\n",
      "probs           | exact: True  | approximate: True  | maxdiff: 0.0\n",
      "counts_sum_inv  | exact: True  | approximate: True  | maxdiff: 0.0\n",
      "counts_sum      | exact: True  | approximate: True  | maxdiff: 0.0\n",
      "counts          | exact: True  | approximate: True  | maxdiff: 0.0\n",
      "norm_logits     | exact: True  | approximate: True  | maxdiff: 0.0\n",
      "logit_maxes     | exact: True  | approximate: True  | maxdiff: 0.0\n",
      "logits          | exact: True  | approximate: True  | maxdiff: 0.0\n",
      "h               | exact: True  | approximate: True  | maxdiff: 0.0\n",
      "W2              | exact: True  | approximate: True  | maxdiff: 0.0\n",
      "b2              | exact: True  | approximate: True  | maxdiff: 0.0\n",
      "hpreact         | exact: True  | approximate: True  | maxdiff: 0.0\n",
      "bngain          | exact: True  | approximate: True  | maxdiff: 0.0\n",
      "bnbias          | exact: True  | approximate: True  | maxdiff: 0.0\n",
      "bnraw           | exact: True  | approximate: True  | maxdiff: 0.0\n",
      "bnvar_inv       | exact: True  | approximate: True  | maxdiff: 0.0\n",
      "bnvar           | exact: True  | approximate: True  | maxdiff: 0.0\n",
      "bndiff2         | exact: True  | approximate: True  | maxdiff: 0.0\n",
      "bndiff          | exact: True  | approximate: True  | maxdiff: 0.0\n",
      "bnmeani         | exact: True  | approximate: True  | maxdiff: 0.0\n",
      "hprebn          | exact: True  | approximate: True  | maxdiff: 0.0\n",
      "embcat          | exact: True  | approximate: True  | maxdiff: 0.0\n",
      "W1              | exact: True  | approximate: True  | maxdiff: 0.0\n",
      "b1              | exact: True  | approximate: True  | maxdiff: 0.0\n",
      "emb             | exact: True  | approximate: True  | maxdiff: 0.0\n",
      "C               | exact: True  | approximate: True  | maxdiff: 0.0\n"
     ]
    }
   ],
   "source": [
    "# Exercise 1: backprop through the whole thing manually,\n",
    "# backpropagating through exactly all of the variables\n",
    "# as they are defined in the forward pass above, one by one\n",
    "\n",
    "# -----------------\n",
    "# YOUR CODE HERE :)\n",
    "# -----------------\n",
    "\n",
    "dlogprobs = torch.zeros_like(logprobs)\n",
    "dlogprobs[range(n), Yb] = -1.0/n\n",
    "\n",
    "dprobs = dlogprobs * 1.0/probs\n",
    "\n",
    "dcounts_sum_inv =  (dprobs * counts).sum(1, keepdims=True)\n",
    "\n",
    "dcounts_sum = -counts_sum**-2 * dcounts_sum_inv\n",
    "\n",
    "dcounts = (dprobs * counts_sum_inv) + (torch.ones_like(counts) * dcounts_sum)\n",
    "\n",
    "dnorm_logits = dcounts * norm_logits.exp() # as counts = norm_logits.exp()\n",
    "\n",
    "dlogit_maxes = -dnorm_logits.sum(1, keepdims=True)\n",
    "\n",
    "dlogits = dnorm_logits.clone() # * 1 from the derivative of logits - logit_maxes with respect to logits\n",
    "logits_temp = torch.zeros_like(logits)\n",
    "logits_temp[range(n),logits.max(1).indices[range(n)]] = 1\n",
    "# Can also use 1 hot F.one_hot(logits.max(1).indices, num_classes=logits.shape[1])\n",
    "dlogits += (logits_temp * dlogit_maxes)\n",
    "\n",
    "dh = dlogits @ torch.t(W2) # Backwards matrix multiply is multiply it's transpose\n",
    "\n",
    "dW2 =  torch.t(h) @ dlogits\n",
    "\n",
    "db2 = dlogits.sum(0)\n",
    "\n",
    "dhpreact = dh * (1 - h**2)\n",
    "\n",
    "dbngain = (bnraw*dhpreact).sum(0, keepdims=True)\n",
    "\n",
    "dbnbias = dhpreact.sum(0, keepdims=True)\n",
    "\n",
    "dbnraw = bngain * dhpreact\n",
    "\n",
    "dbnvar_inv = (bndiff * dbnraw).sum(0, keepdims=True)\n",
    "\n",
    "dbndiff = bnvar_inv *dbnraw\n",
    "\n",
    "dbnvar = -0.5*(bnvar + 1e-5)**-1.5 * dbnvar_inv\n",
    "\n",
    "dbndiff2 = torch.ones_like(bndiff2) * 1/(n-1) * dbnvar\n",
    "dbndiff += (2*bndiff* dbndiff2)\n",
    "\n",
    "dhprebn = dbndiff.clone()\n",
    "dbnmeani = -1 * dbndiff.sum(0, keepdims=True)\n",
    "\n",
    "dhprebn += torch.ones_like(hprebn)*1/n * dbnmeani\n",
    "\n",
    "dembcat = dhprebn @ W1.T\n",
    "dW1 = embcat.T @ dhprebn\n",
    "db1 = dhprebn.sum(0)\n",
    "\n",
    "demb = dembcat.view((32,3,10))\n",
    "dC = torch.zeros_like(C)\n",
    "for i in range(Xb.shape[0]):\n",
    "    for j in range(Xb.shape[1]):\n",
    "        ix = Xb[i,j]\n",
    "        dC[ix] += demb[i,j]\n",
    "\n",
    "cmp('logprobs', dlogprobs, logprobs)\n",
    "cmp('probs', dprobs, probs)\n",
    "cmp('counts_sum_inv', dcounts_sum_inv, counts_sum_inv)\n",
    "cmp('counts_sum', dcounts_sum, counts_sum)\n",
    "cmp('counts', dcounts, counts)\n",
    "cmp('norm_logits', dnorm_logits, norm_logits)\n",
    "cmp('logit_maxes', dlogit_maxes, logit_maxes)\n",
    "cmp('logits', dlogits, logits)\n",
    "cmp('h', dh, h)\n",
    "cmp('W2', dW2, W2)\n",
    "cmp('b2', db2, b2)\n",
    "cmp('hpreact', dhpreact, hpreact)\n",
    "cmp('bngain', dbngain, bngain)\n",
    "cmp('bnbias', dbnbias, bnbias)\n",
    "cmp('bnraw', dbnraw, bnraw)\n",
    "cmp('bnvar_inv', dbnvar_inv, bnvar_inv)\n",
    "cmp('bnvar', dbnvar, bnvar)\n",
    "cmp('bndiff2', dbndiff2, bndiff2)\n",
    "cmp('bndiff', dbndiff, bndiff)\n",
    "cmp('bnmeani', dbnmeani, bnmeani)\n",
    "cmp('hprebn', dhprebn, hprebn)\n",
    "cmp('embcat', dembcat, embcat)\n",
    "cmp('W1', dW1, W1)\n",
    "cmp('b1', db1, b1)\n",
    "cmp('emb', demb, emb)\n",
    "cmp('C', dC, C)"
   ]
  },
  {
   "cell_type": "code",
   "execution_count": 683,
   "metadata": {
    "id": "ebLtYji_8PPw"
   },
   "outputs": [
    {
     "name": "stdout",
     "output_type": "stream",
     "text": [
      "3.3554697036743164 diff: -2.384185791015625e-07\n"
     ]
    }
   ],
   "source": [
    "# Exercise 2: backprop through cross_entropy but all in one go\n",
    "# to complete this challenge look at the mathematical expression of the loss,\n",
    "# take the derivative, simplify the expression, and just write it out\n",
    "\n",
    "# forward pass\n",
    "\n",
    "# before:\n",
    "# logit_maxes = logits.max(1, keepdim=True).values\n",
    "# norm_logits = logits - logit_maxes # subtract max for numerical stability\n",
    "# counts = norm_logits.exp()\n",
    "# counts_sum = counts.sum(1, keepdims=True)\n",
    "# counts_sum_inv = counts_sum**-1 # if I use (1.0 / counts_sum) instead then I can't get backprop to be bit exact...\n",
    "# probs = counts * counts_sum_inv\n",
    "# logprobs = probs.log()\n",
    "# loss = -logprobs[range(n), Yb].mean()\n",
    "\n",
    "# now:\n",
    "loss_fast = F.cross_entropy(logits, Yb)\n",
    "print(loss_fast.item(), 'diff:', (loss_fast - loss).item())"
   ]
  },
  {
   "cell_type": "code",
   "execution_count": 687,
   "metadata": {},
   "outputs": [
    {
     "data": {
      "text/plain": [
       "(torch.Size([32, 27]), torch.Size([32]))"
      ]
     },
     "execution_count": 687,
     "metadata": {},
     "output_type": "execute_result"
    }
   ],
   "source": [
    "logits.shape, Yb.shape"
   ]
  },
  {
   "cell_type": "code",
   "execution_count": 691,
   "metadata": {
    "id": "-gCXbB4C8PPx"
   },
   "outputs": [
    {
     "name": "stdout",
     "output_type": "stream",
     "text": [
      "logits          | exact: False | approximate: True  | maxdiff: 6.752088665962219e-09\n"
     ]
    }
   ],
   "source": [
    "# backward pass\n",
    "\n",
    "# -----------------\n",
    "# YOUR CODE HERE :)\n",
    "dlogits = F.softmax(logits,1)\n",
    "dlogits[range(n), Yb] -= 1\n",
    "dlogits /= n\n",
    "\n",
    "# -----------------\n",
    "\n",
    "cmp('logits', dlogits, logits) # I can only get approximate to be true, my maxdiff is 6e-9"
   ]
  },
  {
   "cell_type": "code",
   "execution_count": null,
   "metadata": {
    "id": "hd-MkhB68PPy"
   },
   "outputs": [],
   "source": [
    "# Exercise 3: backprop through batchnorm but all in one go\n",
    "# to complete this challenge look at the mathematical expression of the output of batchnorm,\n",
    "# take the derivative w.r.t. its input, simplify the expression, and just write it out\n",
    "# BatchNorm paper: https://arxiv.org/abs/1502.03167\n",
    "\n",
    "# forward pass\n",
    "\n",
    "# before:\n",
    "# bnmeani = 1/n*hprebn.sum(0, keepdim=True)\n",
    "# bndiff = hprebn - bnmeani\n",
    "# bndiff2 = bndiff**2\n",
    "# bnvar = 1/(n-1)*(bndiff2).sum(0, keepdim=True) # note: Bessel's correction (dividing by n-1, not n)\n",
    "# bnvar_inv = (bnvar + 1e-5)**-0.5\n",
    "# bnraw = bndiff * bnvar_inv\n",
    "# hpreact = bngain * bnraw + bnbias\n",
    "\n",
    "# now:\n",
    "hpreact_fast = bngain * (hprebn - hprebn.mean(0, keepdim=True)) / torch.sqrt(hprebn.var(0, keepdim=True, unbiased=True) + 1e-5) + bnbias\n",
    "print('max diff:', (hpreact_fast - hpreact).abs().max())"
   ]
  },
  {
   "cell_type": "code",
   "execution_count": 701,
   "metadata": {
    "id": "POdeZSKT8PPy"
   },
   "outputs": [
    {
     "name": "stdout",
     "output_type": "stream",
     "text": [
      "hprebn          | exact: False | approximate: True  | maxdiff: 9.313225746154785e-10\n"
     ]
    }
   ],
   "source": [
    "# backward pass\n",
    "\n",
    "# before we had:\n",
    "# dbnraw = bngain * dhpreact\n",
    "# dbndiff = bnvar_inv * dbnraw\n",
    "# dbnvar_inv = (bndiff * dbnraw).sum(0, keepdim=True)\n",
    "# dbnvar = (-0.5*(bnvar + 1e-5)**-1.5) * dbnvar_inv\n",
    "# dbndiff2 = (1.0/(n-1))*torch.ones_like(bndiff2) * dbnvar\n",
    "# dbndiff += (2*bndiff) * dbndiff2\n",
    "# dhprebn = dbndiff.clone()\n",
    "# dbnmeani = (-dbndiff).sum(0)\n",
    "# dhprebn += 1.0/n * (torch.ones_like(hprebn) * dbnmeani)\n",
    "\n",
    "# calculate dhprebn given dhpreact (i.e. backprop through the batchnorm)\n",
    "# (you'll also need to use some of the variables from the forward pass up above)\n",
    "\n",
    "# -----------------\n",
    "# YOUR CODE HERE :)\n",
    "dhprebn = (bngain * bnvar_inv)/n * (n * dhpreact - dhpreact.sum(0) - n/(n-1) * bnraw * (dhpreact * bnraw).sum(0))\n",
    "# -----------------\n",
    "\n",
    "cmp('hprebn', dhprebn, hprebn) # I can only get approximate to be true, my maxdiff is 9e-10"
   ]
  },
  {
   "cell_type": "code",
   "execution_count": 704,
   "metadata": {},
   "outputs": [
    {
     "data": {
      "text/plain": [
       "(torch.Size([32, 64]),\n",
       " 32,\n",
       " torch.Size([1, 64]),\n",
       " torch.Size([32, 64]),\n",
       " torch.Size([1, 64]),\n",
       " torch.Size([64]))"
      ]
     },
     "execution_count": 704,
     "metadata": {},
     "output_type": "execute_result"
    }
   ],
   "source": [
    "dhpreact.shape, n, bnvar_inv.shape, bnraw.shape, bngain.shape, (dhpreact*bnraw).sum(0).shape"
   ]
  },
  {
   "cell_type": "code",
   "execution_count": 718,
   "metadata": {
    "id": "wPy8DhqB8PPz"
   },
   "outputs": [
    {
     "name": "stdout",
     "output_type": "stream",
     "text": [
      "12297\n",
      "      0/ 200000: 3.7928\n",
      "  10000/ 200000: 2.1850\n",
      "  20000/ 200000: 2.3841\n",
      "  30000/ 200000: 2.4807\n",
      "  40000/ 200000: 1.9356\n",
      "  50000/ 200000: 2.3809\n",
      "  60000/ 200000: 2.3685\n",
      "  70000/ 200000: 2.0917\n",
      "  80000/ 200000: 2.3514\n",
      "  90000/ 200000: 2.0895\n",
      " 100000/ 200000: 2.0318\n",
      " 110000/ 200000: 2.4035\n",
      " 120000/ 200000: 2.0254\n",
      " 130000/ 200000: 2.3602\n",
      " 140000/ 200000: 2.3375\n",
      " 150000/ 200000: 2.1999\n",
      " 160000/ 200000: 1.9846\n",
      " 170000/ 200000: 1.8503\n",
      " 180000/ 200000: 2.0101\n",
      " 190000/ 200000: 1.8086\n"
     ]
    }
   ],
   "source": [
    "# Exercise 4: putting it all together!\n",
    "# Train the MLP neural net with your own backward pass\n",
    "\n",
    "# init\n",
    "n_embd = 10 # the dimensionality of the character embedding vectors\n",
    "n_hidden = 200 # the number of neurons in the hidden layer of the MLP\n",
    "\n",
    "g = torch.Generator().manual_seed(2147483647) # for reproducibility\n",
    "C  = torch.randn((vocab_size, n_embd),            generator=g)\n",
    "# Layer 1\n",
    "W1 = torch.randn((n_embd * block_size, n_hidden), generator=g) * (5/3)/((n_embd * block_size)**0.5)\n",
    "b1 = torch.randn(n_hidden,                        generator=g) * 0.1\n",
    "# Layer 2\n",
    "W2 = torch.randn((n_hidden, vocab_size),          generator=g) * 0.1\n",
    "b2 = torch.randn(vocab_size,                      generator=g) * 0.1\n",
    "# BatchNorm parameters\n",
    "bngain = torch.randn((1, n_hidden))*0.1 + 1.0\n",
    "bnbias = torch.randn((1, n_hidden))*0.1\n",
    "\n",
    "parameters = [C, W1, b1, W2, b2, bngain, bnbias]\n",
    "print(sum(p.nelement() for p in parameters)) # number of parameters in total\n",
    "for p in parameters:\n",
    "  p.requires_grad = True\n",
    "\n",
    "# same optimization as last time\n",
    "max_steps = 200000\n",
    "batch_size = 32\n",
    "n = batch_size # convenience\n",
    "lossi = []\n",
    "\n",
    "# use this context manager for efficiency once your backward pass is written (TODO)\n",
    "with torch.no_grad():\n",
    "\n",
    "    # kick off optimization\n",
    "    for i in range(max_steps):\n",
    "      # minibatch construct\n",
    "      ix = torch.randint(0, Xtr.shape[0], (batch_size,), generator=g)\n",
    "      Xb, Yb = Xtr[ix], Ytr[ix] # batch X,Y\n",
    "    \n",
    "      # forward pass\n",
    "      emb = C[Xb] # embed the characters into vectors\n",
    "      embcat = emb.view(emb.shape[0], -1) # concatenate the vectors\n",
    "      # Linear layer\n",
    "      hprebn = embcat @ W1 + b1 # hidden layer pre-activation\n",
    "      # BatchNorm layer\n",
    "      # -------------------------------------------------------------\n",
    "      bnmean = hprebn.mean(0, keepdim=True)\n",
    "      bnvar = hprebn.var(0, keepdim=True, unbiased=True)\n",
    "      bnvar_inv = (bnvar + 1e-5)**-0.5\n",
    "      bnraw = (hprebn - bnmean) * bnvar_inv\n",
    "      hpreact = bngain * bnraw + bnbias\n",
    "      # -------------------------------------------------------------\n",
    "      # Non-linearity\n",
    "      h = torch.tanh(hpreact) # hidden layer\n",
    "      logits = h @ W2 + b2 # output layer\n",
    "      loss = F.cross_entropy(logits, Yb) # loss function\n",
    "    \n",
    "      # backward pass\n",
    "      for p in parameters:\n",
    "        p.grad = None\n",
    "      # loss.backward() # use this for correctness comparisons, delete it later!\n",
    "    \n",
    "      # manual backprop! #swole_doge_meme\n",
    "      # -----------------\n",
    "      # YOUR CODE HERE :)\n",
    "      dlogits = F.softmax(logits,1)\n",
    "      dlogits[range(n), Yb] -= 1\n",
    "      dlogits /= n\n",
    "    \n",
    "        # 2nd layer\n",
    "      dh = dlogits @ torch.t(W2) # Backwards matrix multiply is multiply it's transpose\n",
    "      dW2 =  torch.t(h) @ dlogits\n",
    "      db2 = dlogits.sum(0)\n",
    "    \n",
    "      # tanh\n",
    "      dhpreact = dh * (1 - h**2)\n",
    "      # batch norm\n",
    "      dbngain = (bnraw*dhpreact).sum(0, keepdims=True)\n",
    "      dbnbias = dhpreact.sum(0, keepdims=True)\n",
    "      dhprebn = (bngain * bnvar_inv)/n * (n * dhpreact - dhpreact.sum(0) - n/(n-1) * bnraw * (dhpreact * bnraw).sum(0))\n",
    "      # 1st layer\n",
    "      dembcat = dhprebn @ W1.T\n",
    "      dW1 = embcat.T @ dhprebn\n",
    "      db1 = dhprebn.sum(0)\n",
    "      # embedding\n",
    "      demb = dembcat.view((32,3,10))\n",
    "      dC = torch.zeros_like(C)\n",
    "      for k in range(Xb.shape[0]):\n",
    "        for j in range(Xb.shape[1]):\n",
    "          ix = Xb[k,j]\n",
    "          dC[ix] += demb[k,j]\n",
    "    \n",
    "      # dC, dW1, db1, dW2, db2, dbngain, dbnbias = None, None, None, None, None, None, None\n",
    "      grads = [dC, dW1, db1, dW2, db2, dbngain, dbnbias]\n",
    "      # -----------------\n",
    "    \n",
    "      # update\n",
    "      lr = 0.1 if i < 100000 else 0.01 # step learning rate decay\n",
    "      for p, grad in zip(parameters, grads):\n",
    "        # p.data += -lr * p.grad # old way of cheems doge (using PyTorch grad from .backward())\n",
    "        p.data += -lr * grad # new way of swole doge TODO: enable\n",
    "    \n",
    "      # track stats\n",
    "      if i % 10000 == 0: # print every once in a while\n",
    "        print(f'{i:7d}/{max_steps:7d}: {loss.item():.4f}')\n",
    "      lossi.append(loss.log10().item())\n",
    "    \n",
    "      # if i >= 100: # TODO: delete early breaking when you're ready to train the full net\n",
    "      #   break"
   ]
  },
  {
   "cell_type": "code",
   "execution_count": 716,
   "metadata": {
    "id": "ZEpI0hMW8PPz"
   },
   "outputs": [
    {
     "name": "stdout",
     "output_type": "stream",
     "text": [
      "(27, 10)        | exact: False | approximate: True  | maxdiff: 1.30385160446167e-08\n",
      "(30, 200)       | exact: False | approximate: True  | maxdiff: 7.450580596923828e-09\n",
      "(200,)          | exact: False | approximate: True  | maxdiff: 3.725290298461914e-09\n",
      "(200, 27)       | exact: False | approximate: True  | maxdiff: 1.1175870895385742e-08\n",
      "(27,)           | exact: False | approximate: True  | maxdiff: 1.1175870895385742e-08\n",
      "(1, 200)        | exact: False | approximate: True  | maxdiff: 2.3283064365386963e-09\n",
      "(1, 200)        | exact: False | approximate: True  | maxdiff: 4.190951585769653e-09\n"
     ]
    }
   ],
   "source": [
    "# useful for checking your gradients\n",
    "for p,g in zip(parameters, grads):\n",
    "  cmp(str(tuple(p.shape)), g, p)"
   ]
  },
  {
   "cell_type": "code",
   "execution_count": 719,
   "metadata": {
    "id": "KImLWNoh8PP0"
   },
   "outputs": [],
   "source": [
    "# calibrate the batch norm at the end of training\n",
    "\n",
    "with torch.no_grad():\n",
    "  # pass the training set through\n",
    "  emb = C[Xtr]\n",
    "  embcat = emb.view(emb.shape[0], -1)\n",
    "  hpreact = embcat @ W1 + b1\n",
    "  # measure the mean/std over the entire training set\n",
    "  bnmean = hpreact.mean(0, keepdim=True)\n",
    "  bnvar = hpreact.var(0, keepdim=True, unbiased=True)\n"
   ]
  },
  {
   "cell_type": "code",
   "execution_count": 720,
   "metadata": {
    "id": "6aFnP_Zc8PP0"
   },
   "outputs": [
    {
     "name": "stdout",
     "output_type": "stream",
     "text": [
      "train 2.072584629058838\n",
      "val 2.10856556892395\n"
     ]
    }
   ],
   "source": [
    "# evaluate train and val loss\n",
    "\n",
    "@torch.no_grad() # this decorator disables gradient tracking\n",
    "def split_loss(split):\n",
    "  x,y = {\n",
    "    'train': (Xtr, Ytr),\n",
    "    'val': (Xdev, Ydev),\n",
    "    'test': (Xte, Yte),\n",
    "  }[split]\n",
    "  emb = C[x] # (N, block_size, n_embd)\n",
    "  embcat = emb.view(emb.shape[0], -1) # concat into (N, block_size * n_embd)\n",
    "  hpreact = embcat @ W1 + b1\n",
    "  hpreact = bngain * (hpreact - bnmean) * (bnvar + 1e-5)**-0.5 + bnbias\n",
    "  h = torch.tanh(hpreact) # (N, n_hidden)\n",
    "  logits = h @ W2 + b2 # (N, vocab_size)\n",
    "  loss = F.cross_entropy(logits, y)\n",
    "  print(split, loss.item())\n",
    "\n",
    "split_loss('train')\n",
    "split_loss('val')"
   ]
  },
  {
   "cell_type": "code",
   "execution_count": null,
   "metadata": {
    "id": "esWqmhyj8PP1"
   },
   "outputs": [],
   "source": [
    "# I achieved:\n",
    "# train 2.0718822479248047\n",
    "# val 2.1162495613098145"
   ]
  },
  {
   "cell_type": "code",
   "execution_count": 721,
   "metadata": {
    "id": "xHeQNv3s8PP1"
   },
   "outputs": [
    {
     "name": "stdout",
     "output_type": "stream",
     "text": [
      "mora.\n",
      "mayah.\n",
      "see.\n",
      "mad.\n",
      "ryla.\n",
      "reisha.\n",
      "ejdraegan.\n",
      "chedo.\n",
      "lilley.\n",
      "bren.\n",
      "eden.\n",
      "sana.\n",
      "arleigh.\n",
      "malaia.\n",
      "noshuberlyn.\n",
      "mie.\n",
      "trick.\n",
      "welle.\n",
      "joberlyn.\n",
      "brence.\n"
     ]
    }
   ],
   "source": [
    "# sample from the model\n",
    "g = torch.Generator().manual_seed(2147483647 + 10)\n",
    "\n",
    "for _ in range(20):\n",
    "\n",
    "    out = []\n",
    "    context = [0] * block_size # initialize with all ...\n",
    "    while True:\n",
    "      # forward pass\n",
    "      emb = C[torch.tensor([context])] # (1,block_size,d)\n",
    "      embcat = emb.view(emb.shape[0], -1) # concat into (N, block_size * n_embd)\n",
    "      hpreact = embcat @ W1 + b1\n",
    "      hpreact = bngain * (hpreact - bnmean) * (bnvar + 1e-5)**-0.5 + bnbias\n",
    "      h = torch.tanh(hpreact) # (N, n_hidden)\n",
    "      logits = h @ W2 + b2 # (N, vocab_size)\n",
    "      # sample\n",
    "      probs = F.softmax(logits, dim=1)\n",
    "      ix = torch.multinomial(probs, num_samples=1, generator=g).item()\n",
    "      context = context[1:] + [ix]\n",
    "      out.append(ix)\n",
    "      if ix == 0:\n",
    "        break\n",
    "\n",
    "    print(''.join(itos[i] for i in out))"
   ]
  },
  {
   "cell_type": "code",
   "execution_count": null,
   "metadata": {},
   "outputs": [],
   "source": []
  }
 ],
 "metadata": {
  "colab": {
   "provenance": []
  },
  "kernelspec": {
   "display_name": "Python 3 (ipykernel)",
   "language": "python",
   "name": "python3"
  },
  "language_info": {
   "codemirror_mode": {
    "name": "ipython",
    "version": 3
   },
   "file_extension": ".py",
   "mimetype": "text/x-python",
   "name": "python",
   "nbconvert_exporter": "python",
   "pygments_lexer": "ipython3",
   "version": "3.12.2"
  }
 },
 "nbformat": 4,
 "nbformat_minor": 4
}
