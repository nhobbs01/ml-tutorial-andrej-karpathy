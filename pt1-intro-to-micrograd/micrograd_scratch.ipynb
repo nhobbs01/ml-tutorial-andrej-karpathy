{
 "cells": [
  {
   "cell_type": "code",
   "execution_count": 312,
   "id": "68e42798-061a-49bc-b1ad-17d77228989b",
   "metadata": {},
   "outputs": [],
   "source": [
    "import math\n",
    "import numpy as np\n",
    "import matplotlib.pyplot as plt\n",
    "import random\n",
    "%matplotlib inline  \n"
   ]
  },
  {
   "cell_type": "code",
   "execution_count": 2,
   "id": "37847df2-5b6d-48d6-809c-ff3edeee8f34",
   "metadata": {},
   "outputs": [],
   "source": [
    "### Create a class for Value, the nn engine"
   ]
  },
  {
   "cell_type": "code",
   "execution_count": 386,
   "id": "800e3d80-a73e-479a-afa7-221e1148c553",
   "metadata": {},
   "outputs": [],
   "source": [
    "class Value:\n",
    "    def __init__(self, data, _children=(), _op='', label=''):\n",
    "        self.data = data\n",
    "        self.grad = 0.0\n",
    "        self.label = label\n",
    "        ## Internal variables\n",
    "        self._backward = lambda: None\n",
    "        self._prev = set(_children)\n",
    "        self._op = _op\n",
    "    def __repr__(self):\n",
    "        return f\"Value(data={self.data})\"\n",
    "    def __add__(self, other):\n",
    "        other = other if isinstance(other, Value) else Value(other)\n",
    "        out = Value(self.data + other.data, (self, other), '+')\n",
    "        def _backward():\n",
    "            self.grad += 1.0 * out.grad\n",
    "            other.grad += 1.0* out.grad\n",
    "        out._backward = _backward\n",
    "        return out\n",
    "    def __mul__(self, other):\n",
    "        other = other if isinstance(other, Value) else Value(other)\n",
    "        out = Value(self.data * other.data, (self, other), '*')\n",
    "        def _backward():\n",
    "            self.grad += other.data * out.grad\n",
    "            other.grad += self.data * out.grad\n",
    "        out._backward = _backward\n",
    "        return out\n",
    "    def __rmul__(self, other):\n",
    "        return self * other\n",
    "    def __radd__(self, other):\n",
    "        return self + other\n",
    "    def __truediv__(self, other):\n",
    "        return self * other **-1\n",
    "    def __neg__(self):\n",
    "        return self * -1\n",
    "    def __sub__(self, other):\n",
    "        return self + (-other)\n",
    "    def __rsub__(self, other):\n",
    "        return other + (-self)\n",
    "    def __pow__(self, other):\n",
    "        # assert(isinstance(other, (int, float)), 'only supports int/float powers')\n",
    "        out = Value(self.data ** other, (self,), f'**{other}')\n",
    "        def _backward():\n",
    "            self.grad = other * (self.data ** (other-1)) * out.grad\n",
    "        out._backward = _backward\n",
    "        return out\n",
    "    def exp(self):\n",
    "        out = Value(math.exp(self.data),(self,), 'exp')\n",
    "        def _backward():\n",
    "            self.grad += out.data * out.grad\n",
    "        out._backward = _backward\n",
    "        return out\n",
    "    def tanh(self):\n",
    "        x = self.data\n",
    "        t = (math.exp(2*x) - 1)/(math.exp(2*x)+1)\n",
    "        out = Value(t, (self, ),'tanh')\n",
    "        def _backward():\n",
    "            self.grad += (1 - t**2) * out.grad\n",
    "        out._backward = _backward\n",
    "        return out\n",
    "    def backward(self):\n",
    "        self.grad = 1.0\n",
    "        topo = []\n",
    "        visited = set()\n",
    "        def build_topo(v):\n",
    "            if v not in visited:\n",
    "                visited.add(v)\n",
    "                for child in v._prev:\n",
    "                    build_topo(child)\n",
    "                topo.append(v)\n",
    "        build_topo(self)\n",
    "        for node in reversed(topo):\n",
    "            node._backward()\n",
    "        "
   ]
  },
  {
   "cell_type": "code",
   "execution_count": 272,
   "id": "ea722851-151e-4664-bf98-47d2dddc3361",
   "metadata": {},
   "outputs": [
    {
     "name": "stdout",
     "output_type": "stream",
     "text": [
      "Value(data=54.598150033144236)\n",
      "Value(data=2.0)\n"
     ]
    }
   ],
   "source": [
    "a = Value(2.0)\n",
    "print((2*a).exp())\n",
    "print(a)"
   ]
  },
  {
   "cell_type": "code",
   "execution_count": 89,
   "id": "f80e6391-253b-4369-be7f-13415559a9a1",
   "metadata": {},
   "outputs": [],
   "source": [
    "## Need to be able to add Values and multiply\n",
    "## e.g a = Value(2.0); b = Value(3.0); a+b => Value(5.0)"
   ]
  },
  {
   "cell_type": "code",
   "execution_count": 90,
   "id": "23fcdc7e-2f62-40c0-8e33-794c8158ff6f",
   "metadata": {},
   "outputs": [],
   "source": [
    "a = Value(2.0)\n",
    "b = Value(3.0)\n",
    "c = a+b"
   ]
  },
  {
   "cell_type": "code",
   "execution_count": 91,
   "id": "f0b6c45b-9da6-4443-85b9-341ccde164c5",
   "metadata": {},
   "outputs": [
    {
     "data": {
      "text/plain": [
       "Value(data=5.0)"
      ]
     },
     "execution_count": 91,
     "metadata": {},
     "output_type": "execute_result"
    }
   ],
   "source": [
    "a.__add__(b)"
   ]
  },
  {
   "cell_type": "code",
   "execution_count": 92,
   "id": "52329206-d41e-44cf-914b-9168eaecf42a",
   "metadata": {},
   "outputs": [
    {
     "data": {
      "text/plain": [
       "{Value(data=2.0), Value(data=3.0)}"
      ]
     },
     "execution_count": 92,
     "metadata": {},
     "output_type": "execute_result"
    }
   ],
   "source": [
    "c._prev"
   ]
  },
  {
   "cell_type": "code",
   "execution_count": 93,
   "id": "65ed21eb-037e-436d-8c5c-20b52a591761",
   "metadata": {},
   "outputs": [
    {
     "name": "stdout",
     "output_type": "stream",
     "text": [
      "Value(data=4.0)\n",
      "{Value(data=2.0)}\n",
      "+\n"
     ]
    }
   ],
   "source": [
    "e = a + a\n",
    "print(e)\n",
    "print(e._prev)\n",
    "print(e._op)"
   ]
  },
  {
   "cell_type": "code",
   "execution_count": 94,
   "id": "5a186de3-3723-40d5-b043-d1f43a027be2",
   "metadata": {},
   "outputs": [
    {
     "name": "stdout",
     "output_type": "stream",
     "text": [
      "Value(data=6.0)\n",
      "{Value(data=3.0), Value(data=2.0)}\n",
      "*\n"
     ]
    }
   ],
   "source": [
    "d = a * b\n",
    "print(d)\n",
    "print(d._prev)\n",
    "print(d._op)"
   ]
  },
  {
   "cell_type": "code",
   "execution_count": 95,
   "id": "6516eb74-3885-494d-bbea-f70ad0e4361c",
   "metadata": {},
   "outputs": [],
   "source": [
    "## Need to be able to keep track of the previous operation to build a graph. value._prev e.g c = a + b. c._prev == (a, b)"
   ]
  },
  {
   "cell_type": "code",
   "execution_count": 96,
   "id": "51f5c921-6f46-4c94-86e2-69891656b450",
   "metadata": {},
   "outputs": [],
   "source": [
    "from graphviz import Digraph\n",
    "def trace(root):\n",
    "    # builds a set of all nodes and edges in a graph\n",
    "    nodes, edges = set(), set()\n",
    "    def build(v):\n",
    "        if v not in nodes:\n",
    "            nodes.add(v)\n",
    "            for child in v._prev:\n",
    "                edges.add((child, v))\n",
    "                build(child)\n",
    "    build(root)\n",
    "    return nodes, edges\n",
    "\n",
    "def draw_dot(root):\n",
    "    dot = Digraph(format='svg', graph_attr={'rankdir':'LR'}) # LR = left to right\n",
    "\n",
    "    nodes, edges = trace(root)\n",
    "    for n in nodes:\n",
    "        uid = str(id(n))\n",
    "        # for any value in the graph, create  a rectangular ('record') node for it \n",
    "        dot.node(name=uid,label='{ %s | data %.4f | grad %.4f  } ' % (n.label,n.data, n.grad), shape='record')\n",
    "        if n._op:\n",
    "            # if this value is a result of some operation, create an op node for it\n",
    "            dot.node(name=uid+n._op, label=n._op)\n",
    "            dot.edge(uid+n._op, uid)\n",
    "    for n1, n2 in edges:\n",
    "        dot.edge(str(id(n1)), str(id(n2)) + n2._op)\n",
    "    return dot\n",
    "    "
   ]
  },
  {
   "cell_type": "code",
   "execution_count": 143,
   "id": "321b362c-fdc2-42f5-b321-dc82961566f2",
   "metadata": {},
   "outputs": [
    {
     "data": {
      "image/svg+xml": [
       "<?xml version=\"1.0\" encoding=\"UTF-8\" standalone=\"no\"?>\n",
       "<!DOCTYPE svg PUBLIC \"-//W3C//DTD SVG 1.1//EN\"\n",
       " \"http://www.w3.org/Graphics/SVG/1.1/DTD/svg11.dtd\">\n",
       "<!-- Generated by graphviz version 10.0.1 (20240210.2158)\n",
       " -->\n",
       "<!-- Pages: 1 -->\n",
       "<svg width=\"1163pt\" height=\"127pt\"\n",
       " viewBox=\"0.00 0.00 1163.00 127.00\" xmlns=\"http://www.w3.org/2000/svg\" xmlns:xlink=\"http://www.w3.org/1999/xlink\">\n",
       "<g id=\"graph0\" class=\"graph\" transform=\"scale(1 1) rotate(0) translate(4 123)\">\n",
       "<polygon fill=\"white\" stroke=\"none\" points=\"-4,4 -4,-123 1159,-123 1159,4 -4,4\"/>\n",
       "<!-- 2420433628256 -->\n",
       "<g id=\"node1\" class=\"node\">\n",
       "<title>2420433628256</title>\n",
       "<polygon fill=\"none\" stroke=\"black\" points=\"657,-54.5 657,-90.5 842.25,-90.5 842.25,-54.5 657,-54.5\"/>\n",
       "<text text-anchor=\"middle\" x=\"668.38\" y=\"-67.2\" font-family=\"Times New Roman,serif\" font-size=\"14.00\">n</text>\n",
       "<polyline fill=\"none\" stroke=\"black\" points=\"679.75,-54.75 679.75,-90.5\"/>\n",
       "<text text-anchor=\"middle\" x=\"720\" y=\"-67.2\" font-family=\"Times New Roman,serif\" font-size=\"14.00\">data 1.0000</text>\n",
       "<polyline fill=\"none\" stroke=\"black\" points=\"760.25,-54.75 760.25,-90.5\"/>\n",
       "<text text-anchor=\"middle\" x=\"801.25\" y=\"-67.2\" font-family=\"Times New Roman,serif\" font-size=\"14.00\">grad 0.0000</text>\n",
       "</g>\n",
       "<!-- 2420433631952tanh -->\n",
       "<g id=\"node4\" class=\"node\">\n",
       "<title>2420433631952tanh</title>\n",
       "<ellipse fill=\"none\" stroke=\"black\" cx=\"905.25\" cy=\"-72.5\" rx=\"27\" ry=\"18\"/>\n",
       "<text text-anchor=\"middle\" x=\"905.25\" y=\"-67.08\" font-family=\"Times New Roman,serif\" font-size=\"14.00\">tanh</text>\n",
       "</g>\n",
       "<!-- 2420433628256&#45;&gt;2420433631952tanh -->\n",
       "<g id=\"edge4\" class=\"edge\">\n",
       "<title>2420433628256&#45;&gt;2420433631952tanh</title>\n",
       "<path fill=\"none\" stroke=\"black\" d=\"M842.65,-72.5C851.02,-72.5 859.14,-72.5 866.59,-72.5\"/>\n",
       "<polygon fill=\"black\" stroke=\"black\" points=\"866.53,-76 876.53,-72.5 866.53,-69 866.53,-76\"/>\n",
       "</g>\n",
       "<!-- 2420433628256+ -->\n",
       "<g id=\"node2\" class=\"node\">\n",
       "<title>2420433628256+</title>\n",
       "<ellipse fill=\"none\" stroke=\"black\" cx=\"594\" cy=\"-72.5\" rx=\"27\" ry=\"18\"/>\n",
       "<text text-anchor=\"middle\" x=\"594\" y=\"-67.08\" font-family=\"Times New Roman,serif\" font-size=\"14.00\">+</text>\n",
       "</g>\n",
       "<!-- 2420433628256+&#45;&gt;2420433628256 -->\n",
       "<g id=\"edge1\" class=\"edge\">\n",
       "<title>2420433628256+&#45;&gt;2420433628256</title>\n",
       "<path fill=\"none\" stroke=\"black\" d=\"M621.41,-72.5C628.45,-72.5 636.5,-72.5 645.05,-72.5\"/>\n",
       "<polygon fill=\"black\" stroke=\"black\" points=\"645.04,-76 655.04,-72.5 645.04,-69 645.04,-76\"/>\n",
       "</g>\n",
       "<!-- 2420433631952 -->\n",
       "<g id=\"node3\" class=\"node\">\n",
       "<title>2420433631952</title>\n",
       "<polygon fill=\"none\" stroke=\"black\" points=\"968.25,-54.5 968.25,-90.5 1155,-90.5 1155,-54.5 968.25,-54.5\"/>\n",
       "<text text-anchor=\"middle\" x=\"980.38\" y=\"-67.2\" font-family=\"Times New Roman,serif\" font-size=\"14.00\">L</text>\n",
       "<polyline fill=\"none\" stroke=\"black\" points=\"992.5,-54.75 992.5,-90.5\"/>\n",
       "<text text-anchor=\"middle\" x=\"1032.75\" y=\"-67.2\" font-family=\"Times New Roman,serif\" font-size=\"14.00\">data 0.7616</text>\n",
       "<polyline fill=\"none\" stroke=\"black\" points=\"1073,-54.75 1073,-90.5\"/>\n",
       "<text text-anchor=\"middle\" x=\"1114\" y=\"-67.2\" font-family=\"Times New Roman,serif\" font-size=\"14.00\">grad 0.0000</text>\n",
       "</g>\n",
       "<!-- 2420433631952tanh&#45;&gt;2420433631952 -->\n",
       "<g id=\"edge2\" class=\"edge\">\n",
       "<title>2420433631952tanh&#45;&gt;2420433631952</title>\n",
       "<path fill=\"none\" stroke=\"black\" d=\"M932.44,-72.5C939.57,-72.5 947.77,-72.5 956.48,-72.5\"/>\n",
       "<polygon fill=\"black\" stroke=\"black\" points=\"956.25,-76 966.25,-72.5 956.25,-69 956.25,-76\"/>\n",
       "</g>\n",
       "<!-- 2420433622832 -->\n",
       "<g id=\"node5\" class=\"node\">\n",
       "<title>2420433622832</title>\n",
       "<polygon fill=\"none\" stroke=\"black\" points=\"0.75,-55.5 0.75,-91.5 192,-91.5 192,-55.5 0.75,-55.5\"/>\n",
       "<text text-anchor=\"middle\" x=\"15.12\" y=\"-68.2\" font-family=\"Times New Roman,serif\" font-size=\"14.00\">a1</text>\n",
       "<polyline fill=\"none\" stroke=\"black\" points=\"29.5,-55.75 29.5,-91.5\"/>\n",
       "<text text-anchor=\"middle\" x=\"69.75\" y=\"-68.2\" font-family=\"Times New Roman,serif\" font-size=\"14.00\">data 2.0000</text>\n",
       "<polyline fill=\"none\" stroke=\"black\" points=\"110,-55.75 110,-91.5\"/>\n",
       "<text text-anchor=\"middle\" x=\"151\" y=\"-68.2\" font-family=\"Times New Roman,serif\" font-size=\"14.00\">grad 0.0000</text>\n",
       "</g>\n",
       "<!-- 2420433629120* -->\n",
       "<g id=\"node9\" class=\"node\">\n",
       "<title>2420433629120*</title>\n",
       "<ellipse fill=\"none\" stroke=\"black\" cx=\"255.75\" cy=\"-45.5\" rx=\"27\" ry=\"18\"/>\n",
       "<text text-anchor=\"middle\" x=\"255.75\" y=\"-40.08\" font-family=\"Times New Roman,serif\" font-size=\"14.00\">*</text>\n",
       "</g>\n",
       "<!-- 2420433622832&#45;&gt;2420433629120* -->\n",
       "<g id=\"edge8\" class=\"edge\">\n",
       "<title>2420433622832&#45;&gt;2420433629120*</title>\n",
       "<path fill=\"none\" stroke=\"black\" d=\"M192.1,-56.65C201.28,-55.01 210.16,-53.43 218.21,-52\"/>\n",
       "<polygon fill=\"black\" stroke=\"black\" points=\"218.62,-55.48 227.85,-50.29 217.39,-48.59 218.62,-55.48\"/>\n",
       "</g>\n",
       "<!-- 2420433621824 -->\n",
       "<g id=\"node6\" class=\"node\">\n",
       "<title>2420433621824</title>\n",
       "<polygon fill=\"none\" stroke=\"black\" points=\"326.62,-82.5 326.62,-118.5 523.12,-118.5 523.12,-82.5 326.62,-82.5\"/>\n",
       "<text text-anchor=\"middle\" x=\"341.38\" y=\"-95.2\" font-family=\"Times New Roman,serif\" font-size=\"14.00\">c1</text>\n",
       "<polyline fill=\"none\" stroke=\"black\" points=\"356.12,-82.75 356.12,-118.5\"/>\n",
       "<text text-anchor=\"middle\" x=\"398.62\" y=\"-95.2\" font-family=\"Times New Roman,serif\" font-size=\"14.00\">data &#45;5.0000</text>\n",
       "<polyline fill=\"none\" stroke=\"black\" points=\"441.12,-82.75 441.12,-118.5\"/>\n",
       "<text text-anchor=\"middle\" x=\"482.12\" y=\"-95.2\" font-family=\"Times New Roman,serif\" font-size=\"14.00\">grad 0.0000</text>\n",
       "</g>\n",
       "<!-- 2420433621824&#45;&gt;2420433628256+ -->\n",
       "<g id=\"edge5\" class=\"edge\">\n",
       "<title>2420433621824&#45;&gt;2420433628256+</title>\n",
       "<path fill=\"none\" stroke=\"black\" d=\"M523.58,-84.13C535.05,-82.21 546.16,-80.35 556.01,-78.7\"/>\n",
       "<polygon fill=\"black\" stroke=\"black\" points=\"556.55,-82.16 565.83,-77.05 555.39,-75.25 556.55,-82.16\"/>\n",
       "</g>\n",
       "<!-- 2420433625472 -->\n",
       "<g id=\"node7\" class=\"node\">\n",
       "<title>2420433625472</title>\n",
       "<polygon fill=\"none\" stroke=\"black\" points=\"0,-0.5 0,-36.5 192.75,-36.5 192.75,-0.5 0,-0.5\"/>\n",
       "<text text-anchor=\"middle\" x=\"15.12\" y=\"-13.2\" font-family=\"Times New Roman,serif\" font-size=\"14.00\">b1</text>\n",
       "<polyline fill=\"none\" stroke=\"black\" points=\"30.25,-0.75 30.25,-36.5\"/>\n",
       "<text text-anchor=\"middle\" x=\"70.5\" y=\"-13.2\" font-family=\"Times New Roman,serif\" font-size=\"14.00\">data 3.0000</text>\n",
       "<polyline fill=\"none\" stroke=\"black\" points=\"110.75,-0.75 110.75,-36.5\"/>\n",
       "<text text-anchor=\"middle\" x=\"151.75\" y=\"-13.2\" font-family=\"Times New Roman,serif\" font-size=\"14.00\">grad 0.0000</text>\n",
       "</g>\n",
       "<!-- 2420433625472&#45;&gt;2420433629120* -->\n",
       "<g id=\"edge7\" class=\"edge\">\n",
       "<title>2420433625472&#45;&gt;2420433629120*</title>\n",
       "<path fill=\"none\" stroke=\"black\" d=\"M193,-34.91C201.81,-36.42 210.32,-37.88 218.06,-39.2\"/>\n",
       "<polygon fill=\"black\" stroke=\"black\" points=\"217.21,-42.61 227.66,-40.85 218.4,-35.71 217.21,-42.61\"/>\n",
       "</g>\n",
       "<!-- 2420433629120 -->\n",
       "<g id=\"node8\" class=\"node\">\n",
       "<title>2420433629120</title>\n",
       "<polygon fill=\"none\" stroke=\"black\" points=\"318.75,-27.5 318.75,-63.5 531,-63.5 531,-27.5 318.75,-27.5\"/>\n",
       "<text text-anchor=\"middle\" x=\"343.62\" y=\"-40.2\" font-family=\"Times New Roman,serif\" font-size=\"14.00\">a1*b1</text>\n",
       "<polyline fill=\"none\" stroke=\"black\" points=\"368.5,-27.75 368.5,-63.5\"/>\n",
       "<text text-anchor=\"middle\" x=\"408.75\" y=\"-40.2\" font-family=\"Times New Roman,serif\" font-size=\"14.00\">data 6.0000</text>\n",
       "<polyline fill=\"none\" stroke=\"black\" points=\"449,-27.75 449,-63.5\"/>\n",
       "<text text-anchor=\"middle\" x=\"490\" y=\"-40.2\" font-family=\"Times New Roman,serif\" font-size=\"14.00\">grad 0.0000</text>\n",
       "</g>\n",
       "<!-- 2420433629120&#45;&gt;2420433628256+ -->\n",
       "<g id=\"edge6\" class=\"edge\">\n",
       "<title>2420433629120&#45;&gt;2420433628256+</title>\n",
       "<path fill=\"none\" stroke=\"black\" d=\"M531.24,-62.52C539.97,-63.93 548.35,-65.29 555.98,-66.52\"/>\n",
       "<polygon fill=\"black\" stroke=\"black\" points=\"555.35,-69.96 565.78,-68.1 556.47,-63.05 555.35,-69.96\"/>\n",
       "</g>\n",
       "<!-- 2420433629120*&#45;&gt;2420433629120 -->\n",
       "<g id=\"edge3\" class=\"edge\">\n",
       "<title>2420433629120*&#45;&gt;2420433629120</title>\n",
       "<path fill=\"none\" stroke=\"black\" d=\"M283.23,-45.5C290.29,-45.5 298.38,-45.5 307.04,-45.5\"/>\n",
       "<polygon fill=\"black\" stroke=\"black\" points=\"306.77,-49 316.77,-45.5 306.77,-42 306.77,-49\"/>\n",
       "</g>\n",
       "</g>\n",
       "</svg>\n"
      ],
      "text/plain": [
       "<graphviz.graphs.Digraph at 0x2338d162690>"
      ]
     },
     "execution_count": 143,
     "metadata": {},
     "output_type": "execute_result"
    }
   ],
   "source": [
    "a1 = Value(2.0, label='a1')\n",
    "b1 = Value(3.0, label='b1')\n",
    "c1= Value(-5.0, label='c1')\n",
    "e1 = a1*b1; e1.label='a1*b1'\n",
    "n = e1 + c1; n.label = 'n'\n",
    "L = n.tanh(); L.label = 'L'\n",
    "draw_dot(L)"
   ]
  },
  {
   "cell_type": "code",
   "execution_count": 104,
   "id": "5bf19ec3-6e6f-4b47-803a-7bac254d94a5",
   "metadata": {},
   "outputs": [],
   "source": [
    "L.grad = 1.0\n",
    "L._backward()"
   ]
  },
  {
   "cell_type": "code",
   "execution_count": 146,
   "id": "868ac0a5-8106-4ea4-abe6-a45a27836fea",
   "metadata": {},
   "outputs": [
    {
     "data": {
      "image/svg+xml": [
       "<?xml version=\"1.0\" encoding=\"UTF-8\" standalone=\"no\"?>\n",
       "<!DOCTYPE svg PUBLIC \"-//W3C//DTD SVG 1.1//EN\"\n",
       " \"http://www.w3.org/Graphics/SVG/1.1/DTD/svg11.dtd\">\n",
       "<!-- Generated by graphviz version 10.0.1 (20240210.2158)\n",
       " -->\n",
       "<!-- Pages: 1 -->\n",
       "<svg width=\"1163pt\" height=\"127pt\"\n",
       " viewBox=\"0.00 0.00 1163.00 127.00\" xmlns=\"http://www.w3.org/2000/svg\" xmlns:xlink=\"http://www.w3.org/1999/xlink\">\n",
       "<g id=\"graph0\" class=\"graph\" transform=\"scale(1 1) rotate(0) translate(4 123)\">\n",
       "<polygon fill=\"white\" stroke=\"none\" points=\"-4,4 -4,-123 1159,-123 1159,4 -4,4\"/>\n",
       "<!-- 2420433628256 -->\n",
       "<g id=\"node1\" class=\"node\">\n",
       "<title>2420433628256</title>\n",
       "<polygon fill=\"none\" stroke=\"black\" points=\"657,-54.5 657,-90.5 842.25,-90.5 842.25,-54.5 657,-54.5\"/>\n",
       "<text text-anchor=\"middle\" x=\"668.38\" y=\"-67.2\" font-family=\"Times New Roman,serif\" font-size=\"14.00\">n</text>\n",
       "<polyline fill=\"none\" stroke=\"black\" points=\"679.75,-54.75 679.75,-90.5\"/>\n",
       "<text text-anchor=\"middle\" x=\"720\" y=\"-67.2\" font-family=\"Times New Roman,serif\" font-size=\"14.00\">data 1.0000</text>\n",
       "<polyline fill=\"none\" stroke=\"black\" points=\"760.25,-54.75 760.25,-90.5\"/>\n",
       "<text text-anchor=\"middle\" x=\"801.25\" y=\"-67.2\" font-family=\"Times New Roman,serif\" font-size=\"14.00\">grad 0.4200</text>\n",
       "</g>\n",
       "<!-- 2420433631952tanh -->\n",
       "<g id=\"node4\" class=\"node\">\n",
       "<title>2420433631952tanh</title>\n",
       "<ellipse fill=\"none\" stroke=\"black\" cx=\"905.25\" cy=\"-72.5\" rx=\"27\" ry=\"18\"/>\n",
       "<text text-anchor=\"middle\" x=\"905.25\" y=\"-67.08\" font-family=\"Times New Roman,serif\" font-size=\"14.00\">tanh</text>\n",
       "</g>\n",
       "<!-- 2420433628256&#45;&gt;2420433631952tanh -->\n",
       "<g id=\"edge4\" class=\"edge\">\n",
       "<title>2420433628256&#45;&gt;2420433631952tanh</title>\n",
       "<path fill=\"none\" stroke=\"black\" d=\"M842.65,-72.5C851.02,-72.5 859.14,-72.5 866.59,-72.5\"/>\n",
       "<polygon fill=\"black\" stroke=\"black\" points=\"866.53,-76 876.53,-72.5 866.53,-69 866.53,-76\"/>\n",
       "</g>\n",
       "<!-- 2420433628256+ -->\n",
       "<g id=\"node2\" class=\"node\">\n",
       "<title>2420433628256+</title>\n",
       "<ellipse fill=\"none\" stroke=\"black\" cx=\"594\" cy=\"-72.5\" rx=\"27\" ry=\"18\"/>\n",
       "<text text-anchor=\"middle\" x=\"594\" y=\"-67.08\" font-family=\"Times New Roman,serif\" font-size=\"14.00\">+</text>\n",
       "</g>\n",
       "<!-- 2420433628256+&#45;&gt;2420433628256 -->\n",
       "<g id=\"edge1\" class=\"edge\">\n",
       "<title>2420433628256+&#45;&gt;2420433628256</title>\n",
       "<path fill=\"none\" stroke=\"black\" d=\"M621.41,-72.5C628.45,-72.5 636.5,-72.5 645.05,-72.5\"/>\n",
       "<polygon fill=\"black\" stroke=\"black\" points=\"645.04,-76 655.04,-72.5 645.04,-69 645.04,-76\"/>\n",
       "</g>\n",
       "<!-- 2420433631952 -->\n",
       "<g id=\"node3\" class=\"node\">\n",
       "<title>2420433631952</title>\n",
       "<polygon fill=\"none\" stroke=\"black\" points=\"968.25,-54.5 968.25,-90.5 1155,-90.5 1155,-54.5 968.25,-54.5\"/>\n",
       "<text text-anchor=\"middle\" x=\"980.38\" y=\"-67.2\" font-family=\"Times New Roman,serif\" font-size=\"14.00\">L</text>\n",
       "<polyline fill=\"none\" stroke=\"black\" points=\"992.5,-54.75 992.5,-90.5\"/>\n",
       "<text text-anchor=\"middle\" x=\"1032.75\" y=\"-67.2\" font-family=\"Times New Roman,serif\" font-size=\"14.00\">data 0.7616</text>\n",
       "<polyline fill=\"none\" stroke=\"black\" points=\"1073,-54.75 1073,-90.5\"/>\n",
       "<text text-anchor=\"middle\" x=\"1114\" y=\"-67.2\" font-family=\"Times New Roman,serif\" font-size=\"14.00\">grad 1.0000</text>\n",
       "</g>\n",
       "<!-- 2420433631952tanh&#45;&gt;2420433631952 -->\n",
       "<g id=\"edge2\" class=\"edge\">\n",
       "<title>2420433631952tanh&#45;&gt;2420433631952</title>\n",
       "<path fill=\"none\" stroke=\"black\" d=\"M932.44,-72.5C939.57,-72.5 947.77,-72.5 956.48,-72.5\"/>\n",
       "<polygon fill=\"black\" stroke=\"black\" points=\"956.25,-76 966.25,-72.5 956.25,-69 956.25,-76\"/>\n",
       "</g>\n",
       "<!-- 2420433622832 -->\n",
       "<g id=\"node5\" class=\"node\">\n",
       "<title>2420433622832</title>\n",
       "<polygon fill=\"none\" stroke=\"black\" points=\"0.75,-55.5 0.75,-91.5 192,-91.5 192,-55.5 0.75,-55.5\"/>\n",
       "<text text-anchor=\"middle\" x=\"15.12\" y=\"-68.2\" font-family=\"Times New Roman,serif\" font-size=\"14.00\">a1</text>\n",
       "<polyline fill=\"none\" stroke=\"black\" points=\"29.5,-55.75 29.5,-91.5\"/>\n",
       "<text text-anchor=\"middle\" x=\"69.75\" y=\"-68.2\" font-family=\"Times New Roman,serif\" font-size=\"14.00\">data 2.0000</text>\n",
       "<polyline fill=\"none\" stroke=\"black\" points=\"110,-55.75 110,-91.5\"/>\n",
       "<text text-anchor=\"middle\" x=\"151\" y=\"-68.2\" font-family=\"Times New Roman,serif\" font-size=\"14.00\">grad 1.2599</text>\n",
       "</g>\n",
       "<!-- 2420433629120* -->\n",
       "<g id=\"node9\" class=\"node\">\n",
       "<title>2420433629120*</title>\n",
       "<ellipse fill=\"none\" stroke=\"black\" cx=\"255.75\" cy=\"-45.5\" rx=\"27\" ry=\"18\"/>\n",
       "<text text-anchor=\"middle\" x=\"255.75\" y=\"-40.08\" font-family=\"Times New Roman,serif\" font-size=\"14.00\">*</text>\n",
       "</g>\n",
       "<!-- 2420433622832&#45;&gt;2420433629120* -->\n",
       "<g id=\"edge8\" class=\"edge\">\n",
       "<title>2420433622832&#45;&gt;2420433629120*</title>\n",
       "<path fill=\"none\" stroke=\"black\" d=\"M192.1,-56.65C201.28,-55.01 210.16,-53.43 218.21,-52\"/>\n",
       "<polygon fill=\"black\" stroke=\"black\" points=\"218.62,-55.48 227.85,-50.29 217.39,-48.59 218.62,-55.48\"/>\n",
       "</g>\n",
       "<!-- 2420433621824 -->\n",
       "<g id=\"node6\" class=\"node\">\n",
       "<title>2420433621824</title>\n",
       "<polygon fill=\"none\" stroke=\"black\" points=\"326.62,-82.5 326.62,-118.5 523.12,-118.5 523.12,-82.5 326.62,-82.5\"/>\n",
       "<text text-anchor=\"middle\" x=\"341.38\" y=\"-95.2\" font-family=\"Times New Roman,serif\" font-size=\"14.00\">c1</text>\n",
       "<polyline fill=\"none\" stroke=\"black\" points=\"356.12,-82.75 356.12,-118.5\"/>\n",
       "<text text-anchor=\"middle\" x=\"398.62\" y=\"-95.2\" font-family=\"Times New Roman,serif\" font-size=\"14.00\">data &#45;5.0000</text>\n",
       "<polyline fill=\"none\" stroke=\"black\" points=\"441.12,-82.75 441.12,-118.5\"/>\n",
       "<text text-anchor=\"middle\" x=\"482.12\" y=\"-95.2\" font-family=\"Times New Roman,serif\" font-size=\"14.00\">grad 0.4200</text>\n",
       "</g>\n",
       "<!-- 2420433621824&#45;&gt;2420433628256+ -->\n",
       "<g id=\"edge5\" class=\"edge\">\n",
       "<title>2420433621824&#45;&gt;2420433628256+</title>\n",
       "<path fill=\"none\" stroke=\"black\" d=\"M523.58,-84.13C535.05,-82.21 546.16,-80.35 556.01,-78.7\"/>\n",
       "<polygon fill=\"black\" stroke=\"black\" points=\"556.55,-82.16 565.83,-77.05 555.39,-75.25 556.55,-82.16\"/>\n",
       "</g>\n",
       "<!-- 2420433625472 -->\n",
       "<g id=\"node7\" class=\"node\">\n",
       "<title>2420433625472</title>\n",
       "<polygon fill=\"none\" stroke=\"black\" points=\"0,-0.5 0,-36.5 192.75,-36.5 192.75,-0.5 0,-0.5\"/>\n",
       "<text text-anchor=\"middle\" x=\"15.12\" y=\"-13.2\" font-family=\"Times New Roman,serif\" font-size=\"14.00\">b1</text>\n",
       "<polyline fill=\"none\" stroke=\"black\" points=\"30.25,-0.75 30.25,-36.5\"/>\n",
       "<text text-anchor=\"middle\" x=\"70.5\" y=\"-13.2\" font-family=\"Times New Roman,serif\" font-size=\"14.00\">data 3.0000</text>\n",
       "<polyline fill=\"none\" stroke=\"black\" points=\"110.75,-0.75 110.75,-36.5\"/>\n",
       "<text text-anchor=\"middle\" x=\"151.75\" y=\"-13.2\" font-family=\"Times New Roman,serif\" font-size=\"14.00\">grad 0.8399</text>\n",
       "</g>\n",
       "<!-- 2420433625472&#45;&gt;2420433629120* -->\n",
       "<g id=\"edge7\" class=\"edge\">\n",
       "<title>2420433625472&#45;&gt;2420433629120*</title>\n",
       "<path fill=\"none\" stroke=\"black\" d=\"M193,-34.91C201.81,-36.42 210.32,-37.88 218.06,-39.2\"/>\n",
       "<polygon fill=\"black\" stroke=\"black\" points=\"217.21,-42.61 227.66,-40.85 218.4,-35.71 217.21,-42.61\"/>\n",
       "</g>\n",
       "<!-- 2420433629120 -->\n",
       "<g id=\"node8\" class=\"node\">\n",
       "<title>2420433629120</title>\n",
       "<polygon fill=\"none\" stroke=\"black\" points=\"318.75,-27.5 318.75,-63.5 531,-63.5 531,-27.5 318.75,-27.5\"/>\n",
       "<text text-anchor=\"middle\" x=\"343.62\" y=\"-40.2\" font-family=\"Times New Roman,serif\" font-size=\"14.00\">a1*b1</text>\n",
       "<polyline fill=\"none\" stroke=\"black\" points=\"368.5,-27.75 368.5,-63.5\"/>\n",
       "<text text-anchor=\"middle\" x=\"408.75\" y=\"-40.2\" font-family=\"Times New Roman,serif\" font-size=\"14.00\">data 6.0000</text>\n",
       "<polyline fill=\"none\" stroke=\"black\" points=\"449,-27.75 449,-63.5\"/>\n",
       "<text text-anchor=\"middle\" x=\"490\" y=\"-40.2\" font-family=\"Times New Roman,serif\" font-size=\"14.00\">grad 0.4200</text>\n",
       "</g>\n",
       "<!-- 2420433629120&#45;&gt;2420433628256+ -->\n",
       "<g id=\"edge6\" class=\"edge\">\n",
       "<title>2420433629120&#45;&gt;2420433628256+</title>\n",
       "<path fill=\"none\" stroke=\"black\" d=\"M531.24,-62.52C539.97,-63.93 548.35,-65.29 555.98,-66.52\"/>\n",
       "<polygon fill=\"black\" stroke=\"black\" points=\"555.35,-69.96 565.78,-68.1 556.47,-63.05 555.35,-69.96\"/>\n",
       "</g>\n",
       "<!-- 2420433629120*&#45;&gt;2420433629120 -->\n",
       "<g id=\"edge3\" class=\"edge\">\n",
       "<title>2420433629120*&#45;&gt;2420433629120</title>\n",
       "<path fill=\"none\" stroke=\"black\" d=\"M283.23,-45.5C290.29,-45.5 298.38,-45.5 307.04,-45.5\"/>\n",
       "<polygon fill=\"black\" stroke=\"black\" points=\"306.77,-49 316.77,-45.5 306.77,-42 306.77,-49\"/>\n",
       "</g>\n",
       "</g>\n",
       "</svg>\n"
      ],
      "text/plain": [
       "<graphviz.graphs.Digraph at 0x2338d1633e0>"
      ]
     },
     "execution_count": 146,
     "metadata": {},
     "output_type": "execute_result"
    }
   ],
   "source": [
    "draw_dot(L)"
   ]
  },
  {
   "cell_type": "code",
   "execution_count": 106,
   "id": "713f247d-b89c-4e6f-9be3-dda653c21709",
   "metadata": {},
   "outputs": [],
   "source": [
    "n._backward()"
   ]
  },
  {
   "cell_type": "code",
   "execution_count": 145,
   "id": "17d902ec-8fe5-4303-8796-ee1bc5a67ff5",
   "metadata": {},
   "outputs": [],
   "source": [
    "L.backward()"
   ]
  },
  {
   "cell_type": "code",
   "execution_count": 113,
   "id": "70d34d19-ea59-44ca-a2e9-7f857f965664",
   "metadata": {},
   "outputs": [],
   "source": [
    "e1._backward()"
   ]
  },
  {
   "cell_type": "code",
   "execution_count": 136,
   "id": "ae04ab4d-e305-4663-81ef-817ae8babf14",
   "metadata": {},
   "outputs": [],
   "source": [
    "L.grad = 1.0\n",
    "topo = []\n",
    "visited = set()\n",
    "def build_topo(v):\n",
    "    if v not in visited:\n",
    "        visited.add(v)\n",
    "        for child in v._prev:\n",
    "            build_topo(child)\n",
    "        topo.append(v)\n",
    "build_topo(L)\n",
    "\n",
    "for node in reversed(topo):\n",
    "    node._backward()"
   ]
  },
  {
   "cell_type": "code",
   "execution_count": 184,
   "id": "fd25aece-37c0-49fc-a9dd-59bb380ea5a7",
   "metadata": {},
   "outputs": [],
   "source": [
    "x = Value(3.0)"
   ]
  },
  {
   "cell_type": "code",
   "execution_count": 169,
   "id": "49ceecd0-dffd-4e2c-8293-0a64ce95ace2",
   "metadata": {},
   "outputs": [],
   "source": [
    "y = x + x"
   ]
  },
  {
   "cell_type": "code",
   "execution_count": 170,
   "id": "642ac36c-0e4f-4184-a464-450dbbc2a89a",
   "metadata": {},
   "outputs": [
    {
     "data": {
      "image/svg+xml": [
       "<?xml version=\"1.0\" encoding=\"UTF-8\" standalone=\"no\"?>\n",
       "<!DOCTYPE svg PUBLIC \"-//W3C//DTD SVG 1.1//EN\"\n",
       " \"http://www.w3.org/Graphics/SVG/1.1/DTD/svg11.dtd\">\n",
       "<!-- Generated by graphviz version 10.0.1 (20240210.2158)\n",
       " -->\n",
       "<!-- Pages: 1 -->\n",
       "<svg width=\"499pt\" height=\"45pt\"\n",
       " viewBox=\"0.00 0.00 498.50 45.00\" xmlns=\"http://www.w3.org/2000/svg\" xmlns:xlink=\"http://www.w3.org/1999/xlink\">\n",
       "<g id=\"graph0\" class=\"graph\" transform=\"scale(1 1) rotate(0) translate(4 41)\">\n",
       "<polygon fill=\"white\" stroke=\"none\" points=\"-4,4 -4,-41 494.5,-41 494.5,4 -4,4\"/>\n",
       "<!-- 2420433919232 -->\n",
       "<g id=\"node1\" class=\"node\">\n",
       "<title>2420433919232</title>\n",
       "<polygon fill=\"none\" stroke=\"black\" points=\"308.25,-0.5 308.25,-36.5 490.5,-36.5 490.5,-0.5 308.25,-0.5\"/>\n",
       "<text text-anchor=\"middle\" x=\"318.12\" y=\"-13.2\" font-family=\"Times New Roman,serif\" font-size=\"14.00\"> </text>\n",
       "<polyline fill=\"none\" stroke=\"black\" points=\"328,-0.75 328,-36.5\"/>\n",
       "<text text-anchor=\"middle\" x=\"368.25\" y=\"-13.2\" font-family=\"Times New Roman,serif\" font-size=\"14.00\">data 6.0000</text>\n",
       "<polyline fill=\"none\" stroke=\"black\" points=\"408.5,-0.75 408.5,-36.5\"/>\n",
       "<text text-anchor=\"middle\" x=\"449.5\" y=\"-13.2\" font-family=\"Times New Roman,serif\" font-size=\"14.00\">grad 0.0000</text>\n",
       "</g>\n",
       "<!-- 2420433919232+ -->\n",
       "<g id=\"node2\" class=\"node\">\n",
       "<title>2420433919232+</title>\n",
       "<ellipse fill=\"none\" stroke=\"black\" cx=\"245.25\" cy=\"-18.5\" rx=\"27\" ry=\"18\"/>\n",
       "<text text-anchor=\"middle\" x=\"245.25\" y=\"-13.07\" font-family=\"Times New Roman,serif\" font-size=\"14.00\">+</text>\n",
       "</g>\n",
       "<!-- 2420433919232+&#45;&gt;2420433919232 -->\n",
       "<g id=\"edge1\" class=\"edge\">\n",
       "<title>2420433919232+&#45;&gt;2420433919232</title>\n",
       "<path fill=\"none\" stroke=\"black\" d=\"M272.75,-18.5C279.79,-18.5 287.84,-18.5 296.38,-18.5\"/>\n",
       "<polygon fill=\"black\" stroke=\"black\" points=\"296.34,-22 306.34,-18.5 296.34,-15 296.34,-22\"/>\n",
       "</g>\n",
       "<!-- 2420432985200 -->\n",
       "<g id=\"node3\" class=\"node\">\n",
       "<title>2420432985200</title>\n",
       "<polygon fill=\"none\" stroke=\"black\" points=\"0,-0.5 0,-36.5 182.25,-36.5 182.25,-0.5 0,-0.5\"/>\n",
       "<text text-anchor=\"middle\" x=\"9.88\" y=\"-13.2\" font-family=\"Times New Roman,serif\" font-size=\"14.00\"> </text>\n",
       "<polyline fill=\"none\" stroke=\"black\" points=\"19.75,-0.75 19.75,-36.5\"/>\n",
       "<text text-anchor=\"middle\" x=\"60\" y=\"-13.2\" font-family=\"Times New Roman,serif\" font-size=\"14.00\">data 3.0000</text>\n",
       "<polyline fill=\"none\" stroke=\"black\" points=\"100.25,-0.75 100.25,-36.5\"/>\n",
       "<text text-anchor=\"middle\" x=\"141.25\" y=\"-13.2\" font-family=\"Times New Roman,serif\" font-size=\"14.00\">grad 0.0000</text>\n",
       "</g>\n",
       "<!-- 2420432985200&#45;&gt;2420433919232+ -->\n",
       "<g id=\"edge2\" class=\"edge\">\n",
       "<title>2420432985200&#45;&gt;2420433919232+</title>\n",
       "<path fill=\"none\" stroke=\"black\" d=\"M182.37,-18.5C190.76,-18.5 198.9,-18.5 206.37,-18.5\"/>\n",
       "<polygon fill=\"black\" stroke=\"black\" points=\"206.37,-22 216.37,-18.5 206.37,-15 206.37,-22\"/>\n",
       "</g>\n",
       "</g>\n",
       "</svg>\n"
      ],
      "text/plain": [
       "<graphviz.graphs.Digraph at 0x2338d1ae4e0>"
      ]
     },
     "execution_count": 170,
     "metadata": {},
     "output_type": "execute_result"
    }
   ],
   "source": [
    "draw_dot(y)"
   ]
  },
  {
   "cell_type": "code",
   "execution_count": 171,
   "id": "a28dffe8-3002-4b81-a076-833f63c2b7e5",
   "metadata": {},
   "outputs": [],
   "source": [
    "y.backward()"
   ]
  },
  {
   "cell_type": "code",
   "execution_count": 185,
   "id": "e3844287-8108-430b-8125-57d04eb0b3d6",
   "metadata": {},
   "outputs": [
    {
     "data": {
      "text/plain": [
       "Value(data=6.0)"
      ]
     },
     "execution_count": 185,
     "metadata": {},
     "output_type": "execute_result"
    }
   ],
   "source": [
    "2 * x"
   ]
  },
  {
   "cell_type": "code",
   "execution_count": 162,
   "id": "64a4af03-2c6c-4397-90ba-979850bf8f0e",
   "metadata": {},
   "outputs": [
    {
     "ename": "NameError",
     "evalue": "name 'Char' is not defined",
     "output_type": "error",
     "traceback": [
      "\u001b[1;31m---------------------------------------------------------------------------\u001b[0m",
      "\u001b[1;31mNameError\u001b[0m                                 Traceback (most recent call last)",
      "Cell \u001b[1;32mIn[162], line 1\u001b[0m\n\u001b[1;32m----> 1\u001b[0m \u001b[38;5;28mtype\u001b[39m(x) \u001b[38;5;241m==\u001b[39m \u001b[43mChar\u001b[49m\n",
      "\u001b[1;31mNameError\u001b[0m: name 'Char' is not defined"
     ]
    }
   ],
   "source": [
    "type(x) == Char"
   ]
  },
  {
   "cell_type": "code",
   "execution_count": 163,
   "id": "493bb39c-0707-4b4e-bdb6-6c767c9b71e6",
   "metadata": {},
   "outputs": [],
   "source": [
    "z = 1"
   ]
  },
  {
   "cell_type": "code",
   "execution_count": 166,
   "id": "17dcd2c4-9354-41d7-bd85-ee889d54ad28",
   "metadata": {},
   "outputs": [
    {
     "data": {
      "text/plain": [
       "1"
      ]
     },
     "execution_count": 166,
     "metadata": {},
     "output_type": "execute_result"
    }
   ],
   "source": [
    "z if type(x) == Value else Value(z)"
   ]
  },
  {
   "cell_type": "code",
   "execution_count": 230,
   "id": "76efda62-e58c-440f-991e-8194bcc91bbd",
   "metadata": {},
   "outputs": [
    {
     "data": {
      "text/plain": [
       "Value(data=32.0)"
      ]
     },
     "execution_count": 230,
     "metadata": {},
     "output_type": "execute_result"
    }
   ],
   "source": [
    "k = Value(2.0)\n",
    "k**5"
   ]
  },
  {
   "cell_type": "code",
   "execution_count": null,
   "id": "48e1fd27-46be-4258-9187-0c373bfa09a6",
   "metadata": {},
   "outputs": [],
   "source": []
  },
  {
   "cell_type": "code",
   "execution_count": null,
   "id": "9229cc37-a1af-4332-be38-d559a75e63bb",
   "metadata": {},
   "outputs": [],
   "source": []
  },
  {
   "cell_type": "code",
   "execution_count": 225,
   "id": "ddfe9873-fbc1-445b-943a-bc2ece4d5e97",
   "metadata": {},
   "outputs": [
    {
     "data": {
      "text/plain": [
       "Value(data=0.8813735880195432)"
      ]
     },
     "execution_count": 225,
     "metadata": {},
     "output_type": "execute_result"
    }
   ],
   "source": [
    "n"
   ]
  },
  {
   "cell_type": "code",
   "execution_count": 232,
   "id": "1f739fc2-dafb-4c23-bb3e-0255d50caf7c",
   "metadata": {},
   "outputs": [
    {
     "data": {
      "text/plain": [
       "Value(data=20.085536923187668)"
      ]
     },
     "execution_count": 232,
     "metadata": {},
     "output_type": "execute_result"
    }
   ],
   "source": [
    "l = Value(3.0)\n",
    "l.exp()"
   ]
  },
  {
   "cell_type": "code",
   "execution_count": 279,
   "id": "f7ccbbf6-766f-48ef-a61c-6fc9ee1ea90e",
   "metadata": {},
   "outputs": [],
   "source": [
    "## neuron has inputs and weights\n",
    "x1 = Value(2.0, label='x1')\n",
    "x2 = Value(0.0, label='x2')\n",
    "\n",
    "w1 = Value(-3.0, label='w1')\n",
    "w2 = Value(1.0, label='w2')\n",
    "# bias\n",
    "b = Value(6.8813735880195432, label='b')\n",
    "x1w1 = x1 * w1\n",
    "x2w2 = x2 * w2\n",
    "x1w1x2w2 = x1w1 + x2w2; x1w1x2w2.label='x1*w1 + x2*w2' \n",
    "n = x1w1x2w2 + b; n.label = 'n'\n",
    "# o = n.tanh();\n",
    "e = (2*n).exp();\n",
    "o = (e - 1)/ (e + 1)\n",
    "o.label = 'o'\n",
    "o.backward()"
   ]
  },
  {
   "cell_type": "code",
   "execution_count": 280,
   "id": "60e7504e-eea4-4c9f-b0aa-e4228a803f8f",
   "metadata": {},
   "outputs": [
    {
     "data": {
      "image/svg+xml": [
       "<?xml version=\"1.0\" encoding=\"UTF-8\" standalone=\"no\"?>\n",
       "<!DOCTYPE svg PUBLIC \"-//W3C//DTD SVG 1.1//EN\"\n",
       " \"http://www.w3.org/Graphics/SVG/1.1/DTD/svg11.dtd\">\n",
       "<!-- Generated by graphviz version 10.0.1 (20240210.2158)\n",
       " -->\n",
       "<!-- Pages: 1 -->\n",
       "<svg width=\"2912pt\" height=\"210pt\"\n",
       " viewBox=\"0.00 0.00 2912.00 210.00\" xmlns=\"http://www.w3.org/2000/svg\" xmlns:xlink=\"http://www.w3.org/1999/xlink\">\n",
       "<g id=\"graph0\" class=\"graph\" transform=\"scale(1 1) rotate(0) translate(4 206)\">\n",
       "<polygon fill=\"white\" stroke=\"none\" points=\"-4,4 -4,-206 2908,-206 2908,4 -4,4\"/>\n",
       "<!-- 2420433937920 -->\n",
       "<g id=\"node1\" class=\"node\">\n",
       "<title>2420433937920</title>\n",
       "<polygon fill=\"none\" stroke=\"black\" points=\"2191.5,-108.5 2191.5,-144.5 2373.75,-144.5 2373.75,-108.5 2191.5,-108.5\"/>\n",
       "<text text-anchor=\"middle\" x=\"2201.38\" y=\"-121.2\" font-family=\"Times New Roman,serif\" font-size=\"14.00\"> </text>\n",
       "<polyline fill=\"none\" stroke=\"black\" points=\"2211.25,-108.75 2211.25,-144.5\"/>\n",
       "<text text-anchor=\"middle\" x=\"2251.5\" y=\"-121.2\" font-family=\"Times New Roman,serif\" font-size=\"14.00\">data 4.8284</text>\n",
       "<polyline fill=\"none\" stroke=\"black\" points=\"2291.75,-108.75 2291.75,-144.5\"/>\n",
       "<text text-anchor=\"middle\" x=\"2332.75\" y=\"-121.2\" font-family=\"Times New Roman,serif\" font-size=\"14.00\">grad 0.1464</text>\n",
       "</g>\n",
       "<!-- 2420433936432* -->\n",
       "<g id=\"node6\" class=\"node\">\n",
       "<title>2420433936432*</title>\n",
       "<ellipse fill=\"none\" stroke=\"black\" cx=\"2655\" cy=\"-98.5\" rx=\"27\" ry=\"18\"/>\n",
       "<text text-anchor=\"middle\" x=\"2655\" y=\"-93.08\" font-family=\"Times New Roman,serif\" font-size=\"14.00\">*</text>\n",
       "</g>\n",
       "<!-- 2420433937920&#45;&gt;2420433936432* -->\n",
       "<g id=\"edge11\" class=\"edge\">\n",
       "<title>2420433937920&#45;&gt;2420433936432*</title>\n",
       "<path fill=\"none\" stroke=\"black\" d=\"M2374.04,-119.9C2435.51,-115.38 2518.67,-109.19 2592,-103.5 2599.88,-102.89 2608.33,-102.22 2616.38,-101.57\"/>\n",
       "<polygon fill=\"black\" stroke=\"black\" points=\"2616.56,-105.07 2626.25,-100.77 2616,-98.09 2616.56,-105.07\"/>\n",
       "</g>\n",
       "<!-- 2420433937920+ -->\n",
       "<g id=\"node2\" class=\"node\">\n",
       "<title>2420433937920+</title>\n",
       "<ellipse fill=\"none\" stroke=\"black\" cx=\"1905.75\" cy=\"-126.5\" rx=\"27\" ry=\"18\"/>\n",
       "<text text-anchor=\"middle\" x=\"1905.75\" y=\"-121.08\" font-family=\"Times New Roman,serif\" font-size=\"14.00\">+</text>\n",
       "</g>\n",
       "<!-- 2420433937920+&#45;&gt;2420433937920 -->\n",
       "<g id=\"edge1\" class=\"edge\">\n",
       "<title>2420433937920+&#45;&gt;2420433937920</title>\n",
       "<path fill=\"none\" stroke=\"black\" d=\"M1933.11,-126.5C1983.54,-126.5 2096.09,-126.5 2179.72,-126.5\"/>\n",
       "<polygon fill=\"black\" stroke=\"black\" points=\"2179.55,-130 2189.55,-126.5 2179.55,-123 2179.55,-130\"/>\n",
       "</g>\n",
       "<!-- 2420433624080 -->\n",
       "<g id=\"node3\" class=\"node\">\n",
       "<title>2420433624080</title>\n",
       "<polygon fill=\"none\" stroke=\"black\" points=\"1.5,-165.5 1.5,-201.5 198,-201.5 198,-165.5 1.5,-165.5\"/>\n",
       "<text text-anchor=\"middle\" x=\"16.25\" y=\"-178.2\" font-family=\"Times New Roman,serif\" font-size=\"14.00\">x1</text>\n",
       "<polyline fill=\"none\" stroke=\"black\" points=\"31,-165.75 31,-201.5\"/>\n",
       "<text text-anchor=\"middle\" x=\"71.25\" y=\"-178.2\" font-family=\"Times New Roman,serif\" font-size=\"14.00\">data 2.0000</text>\n",
       "<polyline fill=\"none\" stroke=\"black\" points=\"111.5,-165.75 111.5,-201.5\"/>\n",
       "<text text-anchor=\"middle\" x=\"154.75\" y=\"-178.2\" font-family=\"Times New Roman,serif\" font-size=\"14.00\">grad &#45;1.5000</text>\n",
       "</g>\n",
       "<!-- 2420433938688* -->\n",
       "<g id=\"node17\" class=\"node\">\n",
       "<title>2420433938688*</title>\n",
       "<ellipse fill=\"none\" stroke=\"black\" cx=\"262.5\" cy=\"-128.5\" rx=\"27\" ry=\"18\"/>\n",
       "<text text-anchor=\"middle\" x=\"262.5\" y=\"-123.08\" font-family=\"Times New Roman,serif\" font-size=\"14.00\">*</text>\n",
       "</g>\n",
       "<!-- 2420433624080&#45;&gt;2420433938688* -->\n",
       "<g id=\"edge18\" class=\"edge\">\n",
       "<title>2420433624080&#45;&gt;2420433938688*</title>\n",
       "<path fill=\"none\" stroke=\"black\" d=\"M173.43,-165.03C182.28,-162.37 191.14,-159.51 199.5,-156.5 209.59,-152.87 220.33,-148.29 229.98,-143.89\"/>\n",
       "<polygon fill=\"black\" stroke=\"black\" points=\"231.37,-147.1 238.95,-139.7 228.41,-140.76 231.37,-147.1\"/>\n",
       "</g>\n",
       "<!-- 2420432990240 -->\n",
       "<g id=\"node4\" class=\"node\">\n",
       "<title>2420432990240</title>\n",
       "<polygon fill=\"none\" stroke=\"black\" points=\"0,-110.5 0,-146.5 199.5,-146.5 199.5,-110.5 0,-110.5\"/>\n",
       "<text text-anchor=\"middle\" x=\"16.25\" y=\"-123.2\" font-family=\"Times New Roman,serif\" font-size=\"14.00\">w1</text>\n",
       "<polyline fill=\"none\" stroke=\"black\" points=\"32.5,-110.75 32.5,-146.5\"/>\n",
       "<text text-anchor=\"middle\" x=\"75\" y=\"-123.2\" font-family=\"Times New Roman,serif\" font-size=\"14.00\">data &#45;3.0000</text>\n",
       "<polyline fill=\"none\" stroke=\"black\" points=\"117.5,-110.75 117.5,-146.5\"/>\n",
       "<text text-anchor=\"middle\" x=\"158.5\" y=\"-123.2\" font-family=\"Times New Roman,serif\" font-size=\"14.00\">grad 1.0000</text>\n",
       "</g>\n",
       "<!-- 2420432990240&#45;&gt;2420433938688* -->\n",
       "<g id=\"edge24\" class=\"edge\">\n",
       "<title>2420432990240&#45;&gt;2420433938688*</title>\n",
       "<path fill=\"none\" stroke=\"black\" d=\"M199.81,-128.5C208.19,-128.5 216.28,-128.5 223.69,-128.5\"/>\n",
       "<polygon fill=\"black\" stroke=\"black\" points=\"223.58,-132 233.58,-128.5 223.58,-125 223.58,-132\"/>\n",
       "</g>\n",
       "<!-- 2420433936432 -->\n",
       "<g id=\"node5\" class=\"node\">\n",
       "<title>2420433936432</title>\n",
       "<polygon fill=\"none\" stroke=\"black\" points=\"2718,-80.5 2718,-116.5 2904,-116.5 2904,-80.5 2718,-80.5\"/>\n",
       "<text text-anchor=\"middle\" x=\"2729.75\" y=\"-93.2\" font-family=\"Times New Roman,serif\" font-size=\"14.00\">o</text>\n",
       "<polyline fill=\"none\" stroke=\"black\" points=\"2741.5,-80.75 2741.5,-116.5\"/>\n",
       "<text text-anchor=\"middle\" x=\"2781.75\" y=\"-93.2\" font-family=\"Times New Roman,serif\" font-size=\"14.00\">data 0.7071</text>\n",
       "<polyline fill=\"none\" stroke=\"black\" points=\"2822,-80.75 2822,-116.5\"/>\n",
       "<text text-anchor=\"middle\" x=\"2863\" y=\"-93.2\" font-family=\"Times New Roman,serif\" font-size=\"14.00\">grad 1.0000</text>\n",
       "</g>\n",
       "<!-- 2420433936432*&#45;&gt;2420433936432 -->\n",
       "<g id=\"edge2\" class=\"edge\">\n",
       "<title>2420433936432*&#45;&gt;2420433936432</title>\n",
       "<path fill=\"none\" stroke=\"black\" d=\"M2682.47,-98.5C2689.61,-98.5 2697.78,-98.5 2706.46,-98.5\"/>\n",
       "<polygon fill=\"black\" stroke=\"black\" points=\"2706.19,-102 2716.19,-98.5 2706.19,-95 2706.19,-102\"/>\n",
       "</g>\n",
       "<!-- 2420433942576 -->\n",
       "<g id=\"node7\" class=\"node\">\n",
       "<title>2420433942576</title>\n",
       "<polygon fill=\"none\" stroke=\"black\" points=\"1036.5,-109.5 1036.5,-145.5 1221.75,-145.5 1221.75,-109.5 1036.5,-109.5\"/>\n",
       "<text text-anchor=\"middle\" x=\"1047.88\" y=\"-122.2\" font-family=\"Times New Roman,serif\" font-size=\"14.00\">n</text>\n",
       "<polyline fill=\"none\" stroke=\"black\" points=\"1059.25,-109.75 1059.25,-145.5\"/>\n",
       "<text text-anchor=\"middle\" x=\"1099.5\" y=\"-122.2\" font-family=\"Times New Roman,serif\" font-size=\"14.00\">data 0.8814</text>\n",
       "<polyline fill=\"none\" stroke=\"black\" points=\"1139.75,-109.75 1139.75,-145.5\"/>\n",
       "<text text-anchor=\"middle\" x=\"1180.75\" y=\"-122.2\" font-family=\"Times New Roman,serif\" font-size=\"14.00\">grad 0.5000</text>\n",
       "</g>\n",
       "<!-- 2420433942384* -->\n",
       "<g id=\"node22\" class=\"node\">\n",
       "<title>2420433942384*</title>\n",
       "<ellipse fill=\"none\" stroke=\"black\" cx=\"1284.75\" cy=\"-99.5\" rx=\"27\" ry=\"18\"/>\n",
       "<text text-anchor=\"middle\" x=\"1284.75\" y=\"-94.08\" font-family=\"Times New Roman,serif\" font-size=\"14.00\">*</text>\n",
       "</g>\n",
       "<!-- 2420433942576&#45;&gt;2420433942384* -->\n",
       "<g id=\"edge28\" class=\"edge\">\n",
       "<title>2420433942576&#45;&gt;2420433942384*</title>\n",
       "<path fill=\"none\" stroke=\"black\" d=\"M1222.15,-110.73C1230.89,-109.13 1239.36,-107.59 1247.08,-106.18\"/>\n",
       "<polygon fill=\"black\" stroke=\"black\" points=\"1247.45,-109.67 1256.66,-104.44 1246.19,-102.79 1247.45,-109.67\"/>\n",
       "</g>\n",
       "<!-- 2420433942576+ -->\n",
       "<g id=\"node8\" class=\"node\">\n",
       "<title>2420433942576+</title>\n",
       "<ellipse fill=\"none\" stroke=\"black\" cx=\"973.5\" cy=\"-127.5\" rx=\"27\" ry=\"18\"/>\n",
       "<text text-anchor=\"middle\" x=\"973.5\" y=\"-122.08\" font-family=\"Times New Roman,serif\" font-size=\"14.00\">+</text>\n",
       "</g>\n",
       "<!-- 2420433942576+&#45;&gt;2420433942576 -->\n",
       "<g id=\"edge3\" class=\"edge\">\n",
       "<title>2420433942576+&#45;&gt;2420433942576</title>\n",
       "<path fill=\"none\" stroke=\"black\" d=\"M1000.91,-127.5C1007.95,-127.5 1016,-127.5 1024.55,-127.5\"/>\n",
       "<polygon fill=\"black\" stroke=\"black\" points=\"1024.54,-131 1034.54,-127.5 1024.54,-124 1024.54,-131\"/>\n",
       "</g>\n",
       "<!-- 2420432983664 -->\n",
       "<g id=\"node9\" class=\"node\">\n",
       "<title>2420432983664</title>\n",
       "<polygon fill=\"none\" stroke=\"black\" points=\"3.75,-55.5 3.75,-91.5 195.75,-91.5 195.75,-55.5 3.75,-55.5\"/>\n",
       "<text text-anchor=\"middle\" x=\"18.5\" y=\"-68.2\" font-family=\"Times New Roman,serif\" font-size=\"14.00\">x2</text>\n",
       "<polyline fill=\"none\" stroke=\"black\" points=\"33.25,-55.75 33.25,-91.5\"/>\n",
       "<text text-anchor=\"middle\" x=\"73.5\" y=\"-68.2\" font-family=\"Times New Roman,serif\" font-size=\"14.00\">data 0.0000</text>\n",
       "<polyline fill=\"none\" stroke=\"black\" points=\"113.75,-55.75 113.75,-91.5\"/>\n",
       "<text text-anchor=\"middle\" x=\"154.75\" y=\"-68.2\" font-family=\"Times New Roman,serif\" font-size=\"14.00\">grad 0.5000</text>\n",
       "</g>\n",
       "<!-- 2420433937392* -->\n",
       "<g id=\"node28\" class=\"node\">\n",
       "<title>2420433937392*</title>\n",
       "<ellipse fill=\"none\" stroke=\"black\" cx=\"262.5\" cy=\"-73.5\" rx=\"27\" ry=\"18\"/>\n",
       "<text text-anchor=\"middle\" x=\"262.5\" y=\"-68.08\" font-family=\"Times New Roman,serif\" font-size=\"14.00\">*</text>\n",
       "</g>\n",
       "<!-- 2420432983664&#45;&gt;2420433937392* -->\n",
       "<g id=\"edge26\" class=\"edge\">\n",
       "<title>2420432983664&#45;&gt;2420433937392*</title>\n",
       "<path fill=\"none\" stroke=\"black\" d=\"M196.12,-73.5C205.86,-73.5 215.3,-73.5 223.83,-73.5\"/>\n",
       "<polygon fill=\"black\" stroke=\"black\" points=\"223.71,-77 233.71,-73.5 223.71,-70 223.71,-77\"/>\n",
       "</g>\n",
       "<!-- 2420433940608 -->\n",
       "<g id=\"node10\" class=\"node\">\n",
       "<title>2420433940608</title>\n",
       "<polygon fill=\"none\" stroke=\"black\" points=\"1038,-54.5 1038,-90.5 1220.25,-90.5 1220.25,-54.5 1038,-54.5\"/>\n",
       "<text text-anchor=\"middle\" x=\"1047.88\" y=\"-67.2\" font-family=\"Times New Roman,serif\" font-size=\"14.00\"> </text>\n",
       "<polyline fill=\"none\" stroke=\"black\" points=\"1057.75,-54.75 1057.75,-90.5\"/>\n",
       "<text text-anchor=\"middle\" x=\"1098\" y=\"-67.2\" font-family=\"Times New Roman,serif\" font-size=\"14.00\">data 2.0000</text>\n",
       "<polyline fill=\"none\" stroke=\"black\" points=\"1138.25,-54.75 1138.25,-90.5\"/>\n",
       "<text text-anchor=\"middle\" x=\"1179.25\" y=\"-67.2\" font-family=\"Times New Roman,serif\" font-size=\"14.00\">grad 0.2203</text>\n",
       "</g>\n",
       "<!-- 2420433940608&#45;&gt;2420433942384* -->\n",
       "<g id=\"edge12\" class=\"edge\">\n",
       "<title>2420433940608&#45;&gt;2420433942384*</title>\n",
       "<path fill=\"none\" stroke=\"black\" d=\"M1220.38,-88.36C1229.68,-90 1238.71,-91.58 1246.9,-93.02\"/>\n",
       "<polygon fill=\"black\" stroke=\"black\" points=\"1246.29,-96.47 1256.75,-94.75 1247.5,-89.58 1246.29,-96.47\"/>\n",
       "</g>\n",
       "<!-- 2420433939120 -->\n",
       "<g id=\"node11\" class=\"node\">\n",
       "<title>2420433939120</title>\n",
       "<polygon fill=\"none\" stroke=\"black\" points=\"1658.25,-81.5 1658.25,-117.5 1840.5,-117.5 1840.5,-81.5 1658.25,-81.5\"/>\n",
       "<text text-anchor=\"middle\" x=\"1668.12\" y=\"-94.2\" font-family=\"Times New Roman,serif\" font-size=\"14.00\"> </text>\n",
       "<polyline fill=\"none\" stroke=\"black\" points=\"1678,-81.75 1678,-117.5\"/>\n",
       "<text text-anchor=\"middle\" x=\"1718.25\" y=\"-94.2\" font-family=\"Times New Roman,serif\" font-size=\"14.00\">data 5.8284</text>\n",
       "<polyline fill=\"none\" stroke=\"black\" points=\"1758.5,-81.75 1758.5,-117.5\"/>\n",
       "<text text-anchor=\"middle\" x=\"1799.5\" y=\"-94.2\" font-family=\"Times New Roman,serif\" font-size=\"14.00\">grad 0.0429</text>\n",
       "</g>\n",
       "<!-- 2420433939120&#45;&gt;2420433937920+ -->\n",
       "<g id=\"edge27\" class=\"edge\">\n",
       "<title>2420433939120&#45;&gt;2420433937920+</title>\n",
       "<path fill=\"none\" stroke=\"black\" d=\"M1840.62,-115.28C1850.22,-116.96 1859.54,-118.59 1867.96,-120.07\"/>\n",
       "<polygon fill=\"black\" stroke=\"black\" points=\"1867.27,-123.5 1877.73,-121.77 1868.48,-116.6 1867.27,-123.5\"/>\n",
       "</g>\n",
       "<!-- 2420433930960+ -->\n",
       "<g id=\"node14\" class=\"node\">\n",
       "<title>2420433930960+</title>\n",
       "<ellipse fill=\"none\" stroke=\"black\" cx=\"1905.75\" cy=\"-71.5\" rx=\"27\" ry=\"18\"/>\n",
       "<text text-anchor=\"middle\" x=\"1905.75\" y=\"-66.08\" font-family=\"Times New Roman,serif\" font-size=\"14.00\">+</text>\n",
       "</g>\n",
       "<!-- 2420433939120&#45;&gt;2420433930960+ -->\n",
       "<g id=\"edge15\" class=\"edge\">\n",
       "<title>2420433939120&#45;&gt;2420433930960+</title>\n",
       "<path fill=\"none\" stroke=\"black\" d=\"M1840.62,-83.13C1850.22,-81.39 1859.54,-79.7 1867.96,-78.17\"/>\n",
       "<polygon fill=\"black\" stroke=\"black\" points=\"1868.51,-81.63 1877.73,-76.4 1867.26,-74.74 1868.51,-81.63\"/>\n",
       "</g>\n",
       "<!-- 2420433939120exp -->\n",
       "<g id=\"node12\" class=\"node\">\n",
       "<title>2420433939120exp</title>\n",
       "<ellipse fill=\"none\" stroke=\"black\" cx=\"1593\" cy=\"-99.5\" rx=\"27\" ry=\"18\"/>\n",
       "<text text-anchor=\"middle\" x=\"1593\" y=\"-94.08\" font-family=\"Times New Roman,serif\" font-size=\"14.00\">exp</text>\n",
       "</g>\n",
       "<!-- 2420433939120exp&#45;&gt;2420433939120 -->\n",
       "<g id=\"edge4\" class=\"edge\">\n",
       "<title>2420433939120exp&#45;&gt;2420433939120</title>\n",
       "<path fill=\"none\" stroke=\"black\" d=\"M1620.19,-99.5C1627.92,-99.5 1636.88,-99.5 1646.41,-99.5\"/>\n",
       "<polygon fill=\"black\" stroke=\"black\" points=\"1646.3,-103 1656.3,-99.5 1646.3,-96 1646.3,-103\"/>\n",
       "</g>\n",
       "<!-- 2420433930960 -->\n",
       "<g id=\"node13\" class=\"node\">\n",
       "<title>2420433930960</title>\n",
       "<polygon fill=\"none\" stroke=\"black\" points=\"1968.75,-53.5 1968.75,-89.5 2155.5,-89.5 2155.5,-53.5 1968.75,-53.5\"/>\n",
       "<text text-anchor=\"middle\" x=\"1978.62\" y=\"-66.2\" font-family=\"Times New Roman,serif\" font-size=\"14.00\"> </text>\n",
       "<polyline fill=\"none\" stroke=\"black\" points=\"1988.5,-53.75 1988.5,-89.5\"/>\n",
       "<text text-anchor=\"middle\" x=\"2028.75\" y=\"-66.2\" font-family=\"Times New Roman,serif\" font-size=\"14.00\">data 6.8284</text>\n",
       "<polyline fill=\"none\" stroke=\"black\" points=\"2069,-53.75 2069,-89.5\"/>\n",
       "<text text-anchor=\"middle\" x=\"2112.25\" y=\"-66.2\" font-family=\"Times New Roman,serif\" font-size=\"14.00\">grad &#45;0.1036</text>\n",
       "</g>\n",
       "<!-- 2420433928512**&#45;1 -->\n",
       "<g id=\"node19\" class=\"node\">\n",
       "<title>2420433928512**&#45;1</title>\n",
       "<ellipse fill=\"none\" stroke=\"black\" cx=\"2282.62\" cy=\"-71.5\" rx=\"27.11\" ry=\"18\"/>\n",
       "<text text-anchor=\"middle\" x=\"2282.62\" y=\"-66.08\" font-family=\"Times New Roman,serif\" font-size=\"14.00\">**&#45;1</text>\n",
       "</g>\n",
       "<!-- 2420433930960&#45;&gt;2420433928512**&#45;1 -->\n",
       "<g id=\"edge14\" class=\"edge\">\n",
       "<title>2420433930960&#45;&gt;2420433928512**&#45;1</title>\n",
       "<path fill=\"none\" stroke=\"black\" d=\"M2155.79,-71.5C2186.78,-71.5 2219.58,-71.5 2243.93,-71.5\"/>\n",
       "<polygon fill=\"black\" stroke=\"black\" points=\"2243.64,-75 2253.64,-71.5 2243.64,-68 2243.64,-75\"/>\n",
       "</g>\n",
       "<!-- 2420433930960+&#45;&gt;2420433930960 -->\n",
       "<g id=\"edge5\" class=\"edge\">\n",
       "<title>2420433930960+&#45;&gt;2420433930960</title>\n",
       "<path fill=\"none\" stroke=\"black\" d=\"M1932.94,-71.5C1940.07,-71.5 1948.27,-71.5 1956.98,-71.5\"/>\n",
       "<polygon fill=\"black\" stroke=\"black\" points=\"1956.75,-75 1966.75,-71.5 1956.75,-68 1956.75,-75\"/>\n",
       "</g>\n",
       "<!-- 2420433928944 -->\n",
       "<g id=\"node15\" class=\"node\">\n",
       "<title>2420433928944</title>\n",
       "<polygon fill=\"none\" stroke=\"black\" points=\"1656,-136.5 1656,-172.5 1842.75,-172.5 1842.75,-136.5 1656,-136.5\"/>\n",
       "<text text-anchor=\"middle\" x=\"1665.88\" y=\"-149.2\" font-family=\"Times New Roman,serif\" font-size=\"14.00\"> </text>\n",
       "<polyline fill=\"none\" stroke=\"black\" points=\"1675.75,-136.75 1675.75,-172.5\"/>\n",
       "<text text-anchor=\"middle\" x=\"1718.25\" y=\"-149.2\" font-family=\"Times New Roman,serif\" font-size=\"14.00\">data &#45;1.0000</text>\n",
       "<polyline fill=\"none\" stroke=\"black\" points=\"1760.75,-136.75 1760.75,-172.5\"/>\n",
       "<text text-anchor=\"middle\" x=\"1801.75\" y=\"-149.2\" font-family=\"Times New Roman,serif\" font-size=\"14.00\">grad 0.1464</text>\n",
       "</g>\n",
       "<!-- 2420433928944&#45;&gt;2420433937920+ -->\n",
       "<g id=\"edge13\" class=\"edge\">\n",
       "<title>2420433928944&#45;&gt;2420433937920+</title>\n",
       "<path fill=\"none\" stroke=\"black\" d=\"M1842.85,-137.73C1851.72,-136.12 1860.31,-134.56 1868.12,-133.14\"/>\n",
       "<polygon fill=\"black\" stroke=\"black\" points=\"1868.62,-136.61 1877.83,-131.38 1867.37,-129.72 1868.62,-136.61\"/>\n",
       "</g>\n",
       "<!-- 2420433938688 -->\n",
       "<g id=\"node16\" class=\"node\">\n",
       "<title>2420433938688</title>\n",
       "<polygon fill=\"none\" stroke=\"black\" points=\"325.5,-110.5 325.5,-146.5 512.25,-146.5 512.25,-110.5 325.5,-110.5\"/>\n",
       "<text text-anchor=\"middle\" x=\"335.38\" y=\"-123.2\" font-family=\"Times New Roman,serif\" font-size=\"14.00\"> </text>\n",
       "<polyline fill=\"none\" stroke=\"black\" points=\"345.25,-110.75 345.25,-146.5\"/>\n",
       "<text text-anchor=\"middle\" x=\"387.75\" y=\"-123.2\" font-family=\"Times New Roman,serif\" font-size=\"14.00\">data &#45;6.0000</text>\n",
       "<polyline fill=\"none\" stroke=\"black\" points=\"430.25,-110.75 430.25,-146.5\"/>\n",
       "<text text-anchor=\"middle\" x=\"471.25\" y=\"-123.2\" font-family=\"Times New Roman,serif\" font-size=\"14.00\">grad 0.5000</text>\n",
       "</g>\n",
       "<!-- 2420433929664+ -->\n",
       "<g id=\"node25\" class=\"node\">\n",
       "<title>2420433929664+</title>\n",
       "<ellipse fill=\"none\" stroke=\"black\" cx=\"575.25\" cy=\"-100.5\" rx=\"27\" ry=\"18\"/>\n",
       "<text text-anchor=\"middle\" x=\"575.25\" y=\"-95.08\" font-family=\"Times New Roman,serif\" font-size=\"14.00\">+</text>\n",
       "</g>\n",
       "<!-- 2420433938688&#45;&gt;2420433929664+ -->\n",
       "<g id=\"edge16\" class=\"edge\">\n",
       "<title>2420433938688&#45;&gt;2420433929664+</title>\n",
       "<path fill=\"none\" stroke=\"black\" d=\"M512.35,-111.73C521.22,-110.12 529.81,-108.56 537.62,-107.14\"/>\n",
       "<polygon fill=\"black\" stroke=\"black\" points=\"538.12,-110.61 547.33,-105.38 536.87,-103.72 538.12,-110.61\"/>\n",
       "</g>\n",
       "<!-- 2420433938688*&#45;&gt;2420433938688 -->\n",
       "<g id=\"edge6\" class=\"edge\">\n",
       "<title>2420433938688*&#45;&gt;2420433938688</title>\n",
       "<path fill=\"none\" stroke=\"black\" d=\"M289.69,-128.5C296.82,-128.5 305.02,-128.5 313.73,-128.5\"/>\n",
       "<polygon fill=\"black\" stroke=\"black\" points=\"313.5,-132 323.5,-128.5 313.5,-125 313.5,-132\"/>\n",
       "</g>\n",
       "<!-- 2420433928512 -->\n",
       "<g id=\"node18\" class=\"node\">\n",
       "<title>2420433928512</title>\n",
       "<polygon fill=\"none\" stroke=\"black\" points=\"2409.75,-57.5 2409.75,-93.5 2592,-93.5 2592,-57.5 2409.75,-57.5\"/>\n",
       "<text text-anchor=\"middle\" x=\"2419.62\" y=\"-70.2\" font-family=\"Times New Roman,serif\" font-size=\"14.00\"> </text>\n",
       "<polyline fill=\"none\" stroke=\"black\" points=\"2429.5,-57.75 2429.5,-93.5\"/>\n",
       "<text text-anchor=\"middle\" x=\"2469.75\" y=\"-70.2\" font-family=\"Times New Roman,serif\" font-size=\"14.00\">data 0.1464</text>\n",
       "<polyline fill=\"none\" stroke=\"black\" points=\"2510,-57.75 2510,-93.5\"/>\n",
       "<text text-anchor=\"middle\" x=\"2551\" y=\"-70.2\" font-family=\"Times New Roman,serif\" font-size=\"14.00\">grad 4.8284</text>\n",
       "</g>\n",
       "<!-- 2420433928512&#45;&gt;2420433936432* -->\n",
       "<g id=\"edge22\" class=\"edge\">\n",
       "<title>2420433928512&#45;&gt;2420433936432*</title>\n",
       "<path fill=\"none\" stroke=\"black\" d=\"M2592.12,-89.15C2600.88,-90.47 2609.37,-91.75 2617.12,-92.92\"/>\n",
       "<polygon fill=\"black\" stroke=\"black\" points=\"2616.33,-96.34 2626.74,-94.38 2617.38,-89.42 2616.33,-96.34\"/>\n",
       "</g>\n",
       "<!-- 2420433928512**&#45;1&#45;&gt;2420433928512 -->\n",
       "<g id=\"edge7\" class=\"edge\">\n",
       "<title>2420433928512**&#45;1&#45;&gt;2420433928512</title>\n",
       "<path fill=\"none\" stroke=\"black\" d=\"M2310.14,-71.99C2332.34,-72.4 2365.5,-73.01 2397.92,-73.61\"/>\n",
       "<polygon fill=\"black\" stroke=\"black\" points=\"2397.76,-77.11 2407.83,-73.8 2397.89,-70.11 2397.76,-77.11\"/>\n",
       "</g>\n",
       "<!-- 2420433929040 -->\n",
       "<g id=\"node20\" class=\"node\">\n",
       "<title>2420433929040</title>\n",
       "<polygon fill=\"none\" stroke=\"black\" points=\"681.38,-137.5 681.38,-173.5 867.38,-173.5 867.38,-137.5 681.38,-137.5\"/>\n",
       "<text text-anchor=\"middle\" x=\"693.12\" y=\"-150.2\" font-family=\"Times New Roman,serif\" font-size=\"14.00\">b</text>\n",
       "<polyline fill=\"none\" stroke=\"black\" points=\"704.88,-137.75 704.88,-173.5\"/>\n",
       "<text text-anchor=\"middle\" x=\"745.12\" y=\"-150.2\" font-family=\"Times New Roman,serif\" font-size=\"14.00\">data 6.8814</text>\n",
       "<polyline fill=\"none\" stroke=\"black\" points=\"785.38,-137.75 785.38,-173.5\"/>\n",
       "<text text-anchor=\"middle\" x=\"826.38\" y=\"-150.2\" font-family=\"Times New Roman,serif\" font-size=\"14.00\">grad 0.5000</text>\n",
       "</g>\n",
       "<!-- 2420433929040&#45;&gt;2420433942576+ -->\n",
       "<g id=\"edge19\" class=\"edge\">\n",
       "<title>2420433929040&#45;&gt;2420433942576+</title>\n",
       "<path fill=\"none\" stroke=\"black\" d=\"M867.59,-142.4C891.65,-138.98 916.22,-135.49 935.53,-132.75\"/>\n",
       "<polygon fill=\"black\" stroke=\"black\" points=\"935.92,-136.23 945.32,-131.36 934.93,-129.3 935.92,-136.23\"/>\n",
       "</g>\n",
       "<!-- 2420433942384 -->\n",
       "<g id=\"node21\" class=\"node\">\n",
       "<title>2420433942384</title>\n",
       "<polygon fill=\"none\" stroke=\"black\" points=\"1347.75,-81.5 1347.75,-117.5 1530,-117.5 1530,-81.5 1347.75,-81.5\"/>\n",
       "<text text-anchor=\"middle\" x=\"1357.62\" y=\"-94.2\" font-family=\"Times New Roman,serif\" font-size=\"14.00\"> </text>\n",
       "<polyline fill=\"none\" stroke=\"black\" points=\"1367.5,-81.75 1367.5,-117.5\"/>\n",
       "<text text-anchor=\"middle\" x=\"1407.75\" y=\"-94.2\" font-family=\"Times New Roman,serif\" font-size=\"14.00\">data 1.7627</text>\n",
       "<polyline fill=\"none\" stroke=\"black\" points=\"1448,-81.75 1448,-117.5\"/>\n",
       "<text text-anchor=\"middle\" x=\"1489\" y=\"-94.2\" font-family=\"Times New Roman,serif\" font-size=\"14.00\">grad 0.2500</text>\n",
       "</g>\n",
       "<!-- 2420433942384&#45;&gt;2420433939120exp -->\n",
       "<g id=\"edge23\" class=\"edge\">\n",
       "<title>2420433942384&#45;&gt;2420433939120exp</title>\n",
       "<path fill=\"none\" stroke=\"black\" d=\"M1530.12,-99.5C1538.51,-99.5 1546.65,-99.5 1554.12,-99.5\"/>\n",
       "<polygon fill=\"black\" stroke=\"black\" points=\"1554.12,-103 1564.12,-99.5 1554.12,-96 1554.12,-103\"/>\n",
       "</g>\n",
       "<!-- 2420433942384*&#45;&gt;2420433942384 -->\n",
       "<g id=\"edge8\" class=\"edge\">\n",
       "<title>2420433942384*&#45;&gt;2420433942384</title>\n",
       "<path fill=\"none\" stroke=\"black\" d=\"M1312.25,-99.5C1319.29,-99.5 1327.34,-99.5 1335.88,-99.5\"/>\n",
       "<polygon fill=\"black\" stroke=\"black\" points=\"1335.84,-103 1345.84,-99.5 1335.84,-96 1335.84,-103\"/>\n",
       "</g>\n",
       "<!-- 2420433940896 -->\n",
       "<g id=\"node23\" class=\"node\">\n",
       "<title>2420433940896</title>\n",
       "<polygon fill=\"none\" stroke=\"black\" points=\"1656,-26.5 1656,-62.5 1842.75,-62.5 1842.75,-26.5 1656,-26.5\"/>\n",
       "<text text-anchor=\"middle\" x=\"1665.88\" y=\"-39.2\" font-family=\"Times New Roman,serif\" font-size=\"14.00\"> </text>\n",
       "<polyline fill=\"none\" stroke=\"black\" points=\"1675.75,-26.75 1675.75,-62.5\"/>\n",
       "<text text-anchor=\"middle\" x=\"1716\" y=\"-39.2\" font-family=\"Times New Roman,serif\" font-size=\"14.00\">data 1.0000</text>\n",
       "<polyline fill=\"none\" stroke=\"black\" points=\"1756.25,-26.75 1756.25,-62.5\"/>\n",
       "<text text-anchor=\"middle\" x=\"1799.5\" y=\"-39.2\" font-family=\"Times New Roman,serif\" font-size=\"14.00\">grad &#45;0.1036</text>\n",
       "</g>\n",
       "<!-- 2420433940896&#45;&gt;2420433930960+ -->\n",
       "<g id=\"edge20\" class=\"edge\">\n",
       "<title>2420433940896&#45;&gt;2420433930960+</title>\n",
       "<path fill=\"none\" stroke=\"black\" d=\"M1842.85,-60.67C1851.72,-62.22 1860.31,-63.73 1868.12,-65.09\"/>\n",
       "<polygon fill=\"black\" stroke=\"black\" points=\"1867.38,-68.52 1877.83,-66.79 1868.58,-61.62 1867.38,-68.52\"/>\n",
       "</g>\n",
       "<!-- 2420433929664 -->\n",
       "<g id=\"node24\" class=\"node\">\n",
       "<title>2420433929664</title>\n",
       "<polygon fill=\"none\" stroke=\"black\" points=\"638.25,-82.5 638.25,-118.5 910.5,-118.5 910.5,-82.5 638.25,-82.5\"/>\n",
       "<text text-anchor=\"middle\" x=\"690.88\" y=\"-95.2\" font-family=\"Times New Roman,serif\" font-size=\"14.00\">x1*w1 + x2*w2</text>\n",
       "<polyline fill=\"none\" stroke=\"black\" points=\"743.5,-82.75 743.5,-118.5\"/>\n",
       "<text text-anchor=\"middle\" x=\"786\" y=\"-95.2\" font-family=\"Times New Roman,serif\" font-size=\"14.00\">data &#45;6.0000</text>\n",
       "<polyline fill=\"none\" stroke=\"black\" points=\"828.5,-82.75 828.5,-118.5\"/>\n",
       "<text text-anchor=\"middle\" x=\"869.5\" y=\"-95.2\" font-family=\"Times New Roman,serif\" font-size=\"14.00\">grad 0.5000</text>\n",
       "</g>\n",
       "<!-- 2420433929664&#45;&gt;2420433942576+ -->\n",
       "<g id=\"edge21\" class=\"edge\">\n",
       "<title>2420433929664&#45;&gt;2420433942576+</title>\n",
       "<path fill=\"none\" stroke=\"black\" d=\"M910.4,-118.99C919.34,-120.22 927.81,-121.38 935.46,-122.43\"/>\n",
       "<polygon fill=\"black\" stroke=\"black\" points=\"934.87,-125.88 945.25,-123.77 935.82,-118.94 934.87,-125.88\"/>\n",
       "</g>\n",
       "<!-- 2420433929664+&#45;&gt;2420433929664 -->\n",
       "<g id=\"edge9\" class=\"edge\">\n",
       "<title>2420433929664+&#45;&gt;2420433929664</title>\n",
       "<path fill=\"none\" stroke=\"black\" d=\"M602.43,-100.5C609.57,-100.5 617.85,-100.5 626.84,-100.5\"/>\n",
       "<polygon fill=\"black\" stroke=\"black\" points=\"626.6,-104 636.6,-100.5 626.6,-97 626.6,-104\"/>\n",
       "</g>\n",
       "<!-- 2420432982992 -->\n",
       "<g id=\"node26\" class=\"node\">\n",
       "<title>2420432982992</title>\n",
       "<polygon fill=\"none\" stroke=\"black\" points=\"2.25,-0.5 2.25,-36.5 197.25,-36.5 197.25,-0.5 2.25,-0.5\"/>\n",
       "<text text-anchor=\"middle\" x=\"18.5\" y=\"-13.2\" font-family=\"Times New Roman,serif\" font-size=\"14.00\">w2</text>\n",
       "<polyline fill=\"none\" stroke=\"black\" points=\"34.75,-0.75 34.75,-36.5\"/>\n",
       "<text text-anchor=\"middle\" x=\"75\" y=\"-13.2\" font-family=\"Times New Roman,serif\" font-size=\"14.00\">data 1.0000</text>\n",
       "<polyline fill=\"none\" stroke=\"black\" points=\"115.25,-0.75 115.25,-36.5\"/>\n",
       "<text text-anchor=\"middle\" x=\"156.25\" y=\"-13.2\" font-family=\"Times New Roman,serif\" font-size=\"14.00\">grad 0.0000</text>\n",
       "</g>\n",
       "<!-- 2420432982992&#45;&gt;2420433937392* -->\n",
       "<g id=\"edge25\" class=\"edge\">\n",
       "<title>2420432982992&#45;&gt;2420433937392*</title>\n",
       "<path fill=\"none\" stroke=\"black\" d=\"M173.43,-36.97C182.28,-39.63 191.14,-42.49 199.5,-45.5 209.59,-49.13 220.33,-53.71 229.98,-58.11\"/>\n",
       "<polygon fill=\"black\" stroke=\"black\" points=\"228.41,-61.24 238.95,-62.3 231.37,-54.9 228.41,-61.24\"/>\n",
       "</g>\n",
       "<!-- 2420433937392 -->\n",
       "<g id=\"node27\" class=\"node\">\n",
       "<title>2420433937392</title>\n",
       "<polygon fill=\"none\" stroke=\"black\" points=\"327.75,-55.5 327.75,-91.5 510,-91.5 510,-55.5 327.75,-55.5\"/>\n",
       "<text text-anchor=\"middle\" x=\"337.62\" y=\"-68.2\" font-family=\"Times New Roman,serif\" font-size=\"14.00\"> </text>\n",
       "<polyline fill=\"none\" stroke=\"black\" points=\"347.5,-55.75 347.5,-91.5\"/>\n",
       "<text text-anchor=\"middle\" x=\"387.75\" y=\"-68.2\" font-family=\"Times New Roman,serif\" font-size=\"14.00\">data 0.0000</text>\n",
       "<polyline fill=\"none\" stroke=\"black\" points=\"428,-55.75 428,-91.5\"/>\n",
       "<text text-anchor=\"middle\" x=\"469\" y=\"-68.2\" font-family=\"Times New Roman,serif\" font-size=\"14.00\">grad 0.5000</text>\n",
       "</g>\n",
       "<!-- 2420433937392&#45;&gt;2420433929664+ -->\n",
       "<g id=\"edge17\" class=\"edge\">\n",
       "<title>2420433937392&#45;&gt;2420433929664+</title>\n",
       "<path fill=\"none\" stroke=\"black\" d=\"M510.12,-89.28C519.72,-90.96 529.04,-92.59 537.46,-94.07\"/>\n",
       "<polygon fill=\"black\" stroke=\"black\" points=\"536.77,-97.5 547.23,-95.77 537.98,-90.6 536.77,-97.5\"/>\n",
       "</g>\n",
       "<!-- 2420433937392*&#45;&gt;2420433937392 -->\n",
       "<g id=\"edge10\" class=\"edge\">\n",
       "<title>2420433937392*&#45;&gt;2420433937392</title>\n",
       "<path fill=\"none\" stroke=\"black\" d=\"M289.69,-73.5C297.42,-73.5 306.38,-73.5 315.91,-73.5\"/>\n",
       "<polygon fill=\"black\" stroke=\"black\" points=\"315.8,-77 325.8,-73.5 315.8,-70 315.8,-77\"/>\n",
       "</g>\n",
       "</g>\n",
       "</svg>\n"
      ],
      "text/plain": [
       "<graphviz.graphs.Digraph at 0x2338d0c7350>"
      ]
     },
     "execution_count": 280,
     "metadata": {},
     "output_type": "execute_result"
    }
   ],
   "source": [
    "draw_dot(o)"
   ]
  },
  {
   "cell_type": "code",
   "execution_count": 284,
   "id": "145c7231-aaa3-4e80-970e-2231663130af",
   "metadata": {},
   "outputs": [],
   "source": [
    "import torch"
   ]
  },
  {
   "cell_type": "code",
   "execution_count": 305,
   "id": "8d694c01-3a6b-40b8-b58a-17cddaa13b85",
   "metadata": {},
   "outputs": [
    {
     "name": "stdout",
     "output_type": "stream",
     "text": [
      "0.7071066904050358\n",
      "-1.5000003851533106\n",
      "1.0000002567688737\n",
      "0.5000001283844369\n",
      "0.0\n"
     ]
    }
   ],
   "source": [
    "#implement the same as above in pytorch\n",
    "x1 = torch.Tensor([2]).double(); x1.requires_grad = True\n",
    "x2 = torch.Tensor([0]).double(); x2.requires_grad = True\n",
    "\n",
    "w1 = torch.Tensor([-3]).double(); w1.requires_grad = True\n",
    "w2 = torch.Tensor([1]).double(); w2.requires_grad = True\n",
    "b = torch.Tensor([6.8813735880195432]).double(); b.requires_grad = True\n",
    "\n",
    "n = x1*w1 + x2*w2 + b\n",
    "o = torch.tanh(n)\n",
    "o.backward()\n",
    "print(o.data.item())\n",
    "print(x1.grad.item())\n",
    "print(w1.grad.item())\n",
    "print(x2.grad.item())\n",
    "print(w2.grad.item())"
   ]
  },
  {
   "cell_type": "code",
   "execution_count": 295,
   "id": "644c9812-3c68-4127-bd67-cbdf094a2221",
   "metadata": {},
   "outputs": [],
   "source": [
    "a = torch.Tensor([[1,2,3],[4,5,6]])"
   ]
  },
  {
   "cell_type": "code",
   "execution_count": 296,
   "id": "a898010c-dc71-4bc0-9241-92aecf182d05",
   "metadata": {},
   "outputs": [
    {
     "data": {
      "text/plain": [
       "torch.Size([2, 3])"
      ]
     },
     "execution_count": 296,
     "metadata": {},
     "output_type": "execute_result"
    }
   ],
   "source": [
    "a.shape"
   ]
  },
  {
   "cell_type": "code",
   "execution_count": 297,
   "id": "dd22e5e7-019d-483e-97c1-efc935ff5907",
   "metadata": {},
   "outputs": [
    {
     "data": {
      "text/plain": [
       "tensor([[1., 2., 3.],\n",
       "        [4., 5., 6.]])"
      ]
     },
     "execution_count": 297,
     "metadata": {},
     "output_type": "execute_result"
    }
   ],
   "source": [
    "a"
   ]
  },
  {
   "cell_type": "code",
   "execution_count": 306,
   "id": "ed4c2df2-b07f-4771-8127-2ff9a7d0844c",
   "metadata": {},
   "outputs": [
    {
     "data": {
      "text/plain": [
       "0.7071066904050358"
      ]
     },
     "execution_count": 306,
     "metadata": {},
     "output_type": "execute_result"
    }
   ],
   "source": [
    "o.item()"
   ]
  },
  {
   "cell_type": "code",
   "execution_count": 547,
   "id": "fe652c3b-8ead-4ee6-a7c1-c10971aab911",
   "metadata": {},
   "outputs": [
    {
     "data": {
      "text/plain": [
       "Value(data=-0.17338850914103174)"
      ]
     },
     "execution_count": 547,
     "metadata": {},
     "output_type": "execute_result"
    }
   ],
   "source": [
    "## Neuron class for MLP\n",
    "\n",
    "class Neuron:\n",
    "    def __init__(self, nin):\n",
    "        self.w = [Value(random.uniform(-1,1)) for _ in range(nin)]\n",
    "        self.b = Value(random.uniform(-1,1))\n",
    "        \n",
    "    def __call__(self, x):\n",
    "        # Forward pass\n",
    "        # w * x + b\n",
    "        act = sum((wi*xi for wi,xi in zip(self.w, x)),self.b)\n",
    "        out = act.tanh()\n",
    "        return out\n",
    "    def parameters(self):\n",
    "        return self.w + [self.b]\n",
    "\n",
    "class Layer:\n",
    "    def __init__(self, nin, nout):\n",
    "        self.neurons = [Neuron(nin) for _ in range(nout)]\n",
    "    def __call__(self, x):\n",
    "        outs = [n(x) for n in self.neurons]\n",
    "        return outs[0] if len(outs) == 1 else outs\n",
    "    def parameters(self):\n",
    "        return [p for neuron in self.neurons for p in neuron.parameters()]\n",
    "\n",
    "class MLP:\n",
    "    def __init__(self, nin, nouts):\n",
    "        sz = [nin]+nouts\n",
    "        self.layers = [Layer(sz[i] ,sz[i+1]) for i in range(len(nouts))]\n",
    "    def __call__(self, x):\n",
    "        for layer in self.layers:\n",
    "            x = layer(x)\n",
    "        return x\n",
    "    def parameters(self):\n",
    "        return [p for layer in self.layers for p in layer.parameters()]\n",
    "            \n",
    "\n",
    "x = [2.0,3.0,-1.0]\n",
    "n = MLP(3,[4,4,1])\n",
    "n(x)"
   ]
  },
  {
   "cell_type": "code",
   "execution_count": 548,
   "id": "0f2038be-0368-4396-a57f-876a3d68661a",
   "metadata": {},
   "outputs": [],
   "source": [
    "xs = [\n",
    "    [2.0, 3.0,-1.0],\n",
    "    [3.0,-1.0,0.5],\n",
    "    [0.5,1.0,1.0],\n",
    "    [1.0,1.0,-1.0],\n",
    "]\n",
    "\n",
    "ys = [1.0,-1.0,-1.0,1.0] # targets"
   ]
  },
  {
   "cell_type": "code",
   "execution_count": null,
   "id": "bb4881cc-955c-43d1-a410-91648229cc56",
   "metadata": {},
   "outputs": [],
   "source": []
  },
  {
   "cell_type": "code",
   "execution_count": 549,
   "id": "af4b5199-bc64-4e6f-b0ef-7b47ffcea175",
   "metadata": {},
   "outputs": [
    {
     "data": {
      "text/plain": [
       "Value(data=4.346505316041061)"
      ]
     },
     "execution_count": 549,
     "metadata": {},
     "output_type": "execute_result"
    }
   ],
   "source": [
    "ypred= [n(x) for x in xs]\n",
    "ypred\n",
    "loss = sum([(yout-ygt)**2 for ygt, yout in zip(ys, ypred)])\n",
    "loss"
   ]
  },
  {
   "cell_type": "code",
   "execution_count": 518,
   "id": "d7e0066b-05a4-4d8e-a222-155660d940ba",
   "metadata": {},
   "outputs": [],
   "source": [
    "loss.backward()"
   ]
  },
  {
   "cell_type": "code",
   "execution_count": 435,
   "id": "93104208-8175-427c-8dde-37d2feafc094",
   "metadata": {},
   "outputs": [
    {
     "data": {
      "text/plain": [
       "0.03766496573487106"
      ]
     },
     "execution_count": 435,
     "metadata": {},
     "output_type": "execute_result"
    }
   ],
   "source": [
    "n.layers[0].neurons[0].w[0].grad"
   ]
  },
  {
   "cell_type": "code",
   "execution_count": 436,
   "id": "158729ce-7780-471e-91d5-62a269b65fa2",
   "metadata": {},
   "outputs": [
    {
     "data": {
      "text/plain": [
       "41"
      ]
     },
     "execution_count": 436,
     "metadata": {},
     "output_type": "execute_result"
    }
   ],
   "source": [
    "len(n.parameters())"
   ]
  },
  {
   "cell_type": "code",
   "execution_count": 519,
   "id": "d5171093-daff-4619-8db4-0151072d463f",
   "metadata": {},
   "outputs": [],
   "source": [
    "for p in n.parameters():\n",
    "    p.data += -0.01 * p.grad"
   ]
  },
  {
   "cell_type": "code",
   "execution_count": 573,
   "id": "3f76cbf3-c312-4f99-a17e-e6b0e3bf04e2",
   "metadata": {},
   "outputs": [
    {
     "name": "stdout",
     "output_type": "stream",
     "text": [
      "0 Value(data=0.01005785487032371)\n",
      "1 Value(data=0.009937821570905777)\n",
      "2 Value(data=0.0098204410150487)\n",
      "3 Value(data=0.00970562856314075)\n",
      "4 Value(data=0.009593303091781791)\n",
      "5 Value(data=0.009483386814301916)\n",
      "6 Value(data=0.009375805112121199)\n",
      "7 Value(data=0.009270486376195288)\n",
      "8 Value(data=0.0091673618578527)\n",
      "9 Value(data=0.009066365528381734)\n",
      "10 Value(data=0.008967433946775879)\n",
      "11 Value(data=0.008870506135091532)\n",
      "12 Value(data=0.00877552346091227)\n",
      "13 Value(data=0.008682429526453317)\n",
      "14 Value(data=0.008591170063873048)\n",
      "15 Value(data=0.00850169283639142)\n",
      "16 Value(data=0.00841394754484362)\n",
      "17 Value(data=0.00832788573932464)\n",
      "18 Value(data=0.008243460735604712)\n",
      "19 Value(data=0.008160627536018629)\n"
     ]
    }
   ],
   "source": [
    "for i in range(20):\n",
    "    lr = 0.05\n",
    "    # Forward pass\n",
    "    ypred= [n(x) for x in xs]\n",
    "    loss = sum([(yout-ygt)**2 for ygt, yout in zip(ys, ypred)])\n",
    "\n",
    "    # Reset grad\n",
    "    for p in n.parameters():\n",
    "        p.grad = 0.0\n",
    "    # Backward pass\n",
    "    loss.backward()\n",
    "\n",
    "    # update\n",
    "    for p in n.parameters():\n",
    "        p.data += -lr * p.grad # Nudge params in the model\n",
    "    print(i,loss)\n",
    "\n",
    "    \n",
    "    "
   ]
  },
  {
   "cell_type": "code",
   "execution_count": 574,
   "id": "5b294c0b-01db-4e58-9021-a037e0f72811",
   "metadata": {},
   "outputs": [
    {
     "data": {
      "text/plain": [
       "[Value(data=0.9573056886819614),\n",
       " Value(data=-0.9505885750387495),\n",
       " Value(data=-0.9600447800529701),\n",
       " Value(data=0.9520425730529649)]"
      ]
     },
     "execution_count": 574,
     "metadata": {},
     "output_type": "execute_result"
    }
   ],
   "source": [
    "ypred"
   ]
  },
  {
   "cell_type": "code",
   "execution_count": 581,
   "id": "f0363685-1e8d-4fa5-8898-e16b337dbacc",
   "metadata": {},
   "outputs": [
    {
     "data": {
      "text/plain": [
       "Value(data=0.14335508680654677)"
      ]
     },
     "execution_count": 581,
     "metadata": {},
     "output_type": "execute_result"
    }
   ],
   "source": [
    "n([1.0,1.0,0.0])"
   ]
  },
  {
   "cell_type": "code",
   "execution_count": null,
   "id": "b65a3113-d6a3-4ccd-b94a-46cbb06e9c7f",
   "metadata": {},
   "outputs": [],
   "source": []
  }
 ],
 "metadata": {
  "kernelspec": {
   "display_name": "Python 3 (ipykernel)",
   "language": "python",
   "name": "python3"
  },
  "language_info": {
   "codemirror_mode": {
    "name": "ipython",
    "version": 3
   },
   "file_extension": ".py",
   "mimetype": "text/x-python",
   "name": "python",
   "nbconvert_exporter": "python",
   "pygments_lexer": "ipython3",
   "version": "3.12.2"
  }
 },
 "nbformat": 4,
 "nbformat_minor": 5
}
