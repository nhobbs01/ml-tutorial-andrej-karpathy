{
 "cells": [
  {
   "cell_type": "markdown",
   "id": "b7c7db15-1f36-41dd-948a-5885cca1f3a8",
   "metadata": {},
   "source": [
    "### Part 2 of Makemore follow along tutorial\n",
    "### Implementing MLP, following Bengio et al. 2003. https://www.jmlr.org/papers/volume3/bengio03a/bengio03a.pdf"
   ]
  },
  {
   "cell_type": "code",
   "execution_count": 63,
   "id": "bf90d7c2-61a4-4c7b-afde-be2e2057bb72",
   "metadata": {},
   "outputs": [],
   "source": [
    "import numpy as np\n",
    "import torch\n",
    "import torch.nn.functional as F\n",
    "import matplotlib.pyplot as plt\n",
    "%matplotlib inline"
   ]
  },
  {
   "cell_type": "code",
   "execution_count": 2,
   "id": "ab47bdb4-a3b4-4eea-9de8-294e2eaf196a",
   "metadata": {},
   "outputs": [
    {
     "data": {
      "text/plain": [
       "32033"
      ]
     },
     "execution_count": 2,
     "metadata": {},
     "output_type": "execute_result"
    }
   ],
   "source": [
    "words = open('names.txt', 'r').read().splitlines()\n",
    "len(words)"
   ]
  },
  {
   "cell_type": "code",
   "execution_count": 49,
   "id": "13416718-6e93-4877-abce-27fe69df7f64",
   "metadata": {},
   "outputs": [
    {
     "name": "stdout",
     "output_type": "stream",
     "text": [
      "{'a': 1, 'b': 2, 'c': 3, 'd': 4, 'e': 5, 'f': 6, 'g': 7, 'h': 8, 'i': 9, 'j': 10, 'k': 11, 'l': 12, 'm': 13, 'n': 14, 'o': 15, 'p': 16, 'q': 17, 'r': 18, 's': 19, 't': 20, 'u': 21, 'v': 22, 'w': 23, 'x': 24, 'y': 25, 'z': 26, '.': 0}\n",
      "{1: 'a', 2: 'b', 3: 'c', 4: 'd', 5: 'e', 6: 'f', 7: 'g', 8: 'h', 9: 'i', 10: 'j', 11: 'k', 12: 'l', 13: 'm', 14: 'n', 15: 'o', 16: 'p', 17: 'q', 18: 'r', 19: 's', 20: 't', 21: 'u', 22: 'v', 23: 'w', 24: 'x', 25: 'y', 26: 'z', 0: '.'}\n"
     ]
    }
   ],
   "source": [
    "# build the vocabulary\n",
    "chars = sorted(list(set(\"\".join(words))))\n",
    "stoi = {s: i+1 for i, s in enumerate(chars)}\n",
    "stoi['.'] = 0\n",
    "itos = {i+1: s for i,s in enumerate(chars)}\n",
    "itos[0] = '.'\n",
    "print(stoi)\n",
    "print(itos)"
   ]
  },
  {
   "cell_type": "code",
   "execution_count": 21,
   "id": "687506c7-cf77-411b-9c11-a01d8ddbcff7",
   "metadata": {},
   "outputs": [],
   "source": [
    "n = 10"
   ]
  },
  {
   "cell_type": "code",
   "execution_count": null,
   "id": "ea569ee9-7e68-437b-b7a2-8aa2e4c54f5b",
   "metadata": {},
   "outputs": [],
   "source": []
  },
  {
   "cell_type": "code",
   "execution_count": 27,
   "id": "86745313-5a13-458f-8a26-c5c382608d49",
   "metadata": {},
   "outputs": [
    {
     "data": {
      "text/plain": [
       "torch.Size([10, 27])"
      ]
     },
     "execution_count": 27,
     "metadata": {},
     "output_type": "execute_result"
    }
   ],
   "source": [
    "C = torch.rand((n, 27))\n",
    "C.shape"
   ]
  },
  {
   "cell_type": "code",
   "execution_count": 25,
   "id": "5c61a239-1ead-4347-8387-77ad157d1d62",
   "metadata": {},
   "outputs": [],
   "source": [
    "parameters = [C, W]"
   ]
  },
  {
   "cell_type": "code",
   "execution_count": 31,
   "id": "c6ba73ba-e958-4ad7-8118-6b7cd8950e83",
   "metadata": {},
   "outputs": [
    {
     "data": {
      "text/plain": [
       "[tensor([0.2587, 0.9283, 0.7782, 0.2920, 0.5641, 0.3869, 0.4634, 0.7017, 0.7588,\n",
       "         0.2439, 0.5399, 0.7252, 0.3193, 0.0191, 0.4920, 0.4094, 0.0828, 0.5714,\n",
       "         0.2326, 0.4631, 0.4418, 0.1311, 0.8175, 0.1328, 0.1052, 0.2359, 0.7683]),\n",
       " tensor([0.2563, 0.8800, 0.5136, 0.7271, 0.6692, 0.9098, 0.4773, 0.3820, 0.1257,\n",
       "         0.8109, 0.9284, 0.6036, 0.5441, 0.1110, 0.9145, 0.8689, 0.2667, 0.3551,\n",
       "         0.5836, 0.4062, 0.1094, 0.5827, 0.2636, 0.7898, 0.4932, 0.9367, 0.8925]),\n",
       " tensor([0.2542, 0.6994, 0.6186, 0.2430, 0.9905, 0.3281, 0.9446, 0.2642, 0.6961,\n",
       "         0.4686, 0.0804, 0.3773, 0.4837, 0.8037, 0.5500, 0.3904, 0.4354, 0.9067,\n",
       "         0.0442, 0.9591, 0.9630, 0.3663, 0.1048, 0.3232, 0.1887, 0.7146, 0.3132])]"
      ]
     },
     "execution_count": 31,
     "metadata": {},
     "output_type": "execute_result"
    }
   ],
   "source": [
    "[C[0], C[1], C[2]]"
   ]
  },
  {
   "cell_type": "code",
   "execution_count": 329,
   "id": "44c44ab9-083c-4a1b-92cf-67bfda66f1d0",
   "metadata": {},
   "outputs": [
    {
     "name": "stdout",
     "output_type": "stream",
     "text": [
      "torch.Size([182441, 3]) torch.Size([182441])\n",
      "torch.Size([22902, 3]) torch.Size([22902])\n",
      "torch.Size([22803, 3]) torch.Size([22803])\n"
     ]
    }
   ],
   "source": [
    "# build the dataset\n",
    "def build_dataset(words):\n",
    "    block_size = 3 # context length\n",
    "    X, Y = [], []\n",
    "    \n",
    "    for word in words:\n",
    "        #print(word)\n",
    "        context = [0] * block_size\n",
    "        for ch in word + '.':\n",
    "            ix = stoi[ch]\n",
    "            X.append(context)\n",
    "            Y.append(ix)\n",
    "            #print(\"\".join(itos[i] for i in context), '-->', itos[ix])\n",
    "            context = context[1:] + [ix]\n",
    "\n",
    "    X = torch.tensor(X)\n",
    "    Y = torch.tensor(Y)\n",
    "    print(X.shape, Y.shape)\n",
    "    return X, Y\n",
    "\n",
    "import random\n",
    "random.seed(42)\n",
    "random.shuffle(words)\n",
    "n1 = int(0.8 * len(words))\n",
    "n2 = int(0.9*len(words))\n",
    "Xtr, Ytr = build_dataset(words[:n1])\n",
    "Xdev, Ydev = build_dataset(words[n1:n2])\n",
    "Xtest, Ytest = build_dataset(words[n2:])"
   ]
  },
  {
   "cell_type": "code",
   "execution_count": 330,
   "id": "dc408aff-89d7-4ce3-bd76-b012d38c0598",
   "metadata": {},
   "outputs": [
    {
     "data": {
      "text/plain": [
       "(torch.Size([182441, 3]), torch.int64, torch.Size([182441]), torch.int64)"
      ]
     },
     "execution_count": 330,
     "metadata": {},
     "output_type": "execute_result"
    }
   ],
   "source": [
    "Xtr.shape, Xtr.dtype, Ytr.shape, Ytr.dtype"
   ]
  },
  {
   "cell_type": "code",
   "execution_count": 1081,
   "id": "c6299b85-414e-4f8f-a816-82574646e03f",
   "metadata": {},
   "outputs": [],
   "source": [
    "g = torch.Generator().manual_seed(2147483647)\n",
    "c_size = 10\n",
    "h = 200\n",
    "C = torch.randn((27, c_size), generator=g)\n",
    "W1 = torch.randn(( c_size*block_size, h),generator=g)*0.01\n",
    "b1 = torch.zeros(h)\n",
    "W2 = torch.randn((h,27), generator=g)*0.01\n",
    "b2 = torch.zeros(27)"
   ]
  },
  {
   "cell_type": "code",
   "execution_count": 1082,
   "id": "9a346c4e-d718-4b78-8527-09c6f40ad2ca",
   "metadata": {},
   "outputs": [],
   "source": [
    "params = [C, W1, W2, b1, b2]\n",
    "for p in params:\n",
    "    p.requires_grad = True"
   ]
  },
  {
   "cell_type": "code",
   "execution_count": 1083,
   "id": "63fd1335-dcf9-4fce-bb35-3b156301983c",
   "metadata": {},
   "outputs": [
    {
     "data": {
      "text/plain": [
       "11897"
      ]
     },
     "execution_count": 1083,
     "metadata": {},
     "output_type": "execute_result"
    }
   ],
   "source": [
    "sum(p.nelement() for p in params)"
   ]
  },
  {
   "cell_type": "code",
   "execution_count": 1084,
   "id": "269e5417-2361-4c5c-ac69-569cdd49b825",
   "metadata": {},
   "outputs": [],
   "source": [
    "lre = torch.linspace(-3,0,1000)\n",
    "lrs = 10**lre"
   ]
  },
  {
   "cell_type": "code",
   "execution_count": 1085,
   "id": "ecfcdace-483c-470a-bdfc-d2f1bbd78f23",
   "metadata": {},
   "outputs": [],
   "source": [
    "lri = []\n",
    "lossi = []\n",
    "stepi = []"
   ]
  },
  {
   "cell_type": "code",
   "execution_count": 1086,
   "id": "4c054d82-cfaf-4c6e-95ac-3f28d3543863",
   "metadata": {},
   "outputs": [
    {
     "data": {
      "text/plain": [
       "tensor(1.8984, grad_fn=<AddBackward0>)"
      ]
     },
     "execution_count": 1086,
     "metadata": {},
     "output_type": "execute_result"
    }
   ],
   "source": [
    "loss"
   ]
  },
  {
   "cell_type": "code",
   "execution_count": 1087,
   "id": "64fd4d8e-936a-47b3-87f6-2e7202a41a64",
   "metadata": {},
   "outputs": [
    {
     "name": "stdout",
     "output_type": "stream",
     "text": [
      "0 / 200000: 3.3968\n",
      "10000 / 200000: 2.5300\n",
      "20000 / 200000: 2.2272\n",
      "30000 / 200000: 2.3793\n",
      "40000 / 200000: 2.5019\n",
      "50000 / 200000: 2.4698\n",
      "60000 / 200000: 2.1491\n",
      "70000 / 200000: 2.7626\n",
      "80000 / 200000: 2.2898\n",
      "90000 / 200000: 2.1699\n",
      "100000 / 200000: 2.1387\n",
      "110000 / 200000: 2.5115\n",
      "120000 / 200000: 2.4377\n",
      "130000 / 200000: 1.9016\n",
      "140000 / 200000: 1.9353\n",
      "150000 / 200000: 2.0826\n",
      "160000 / 200000: 2.3289\n",
      "170000 / 200000: 1.8293\n",
      "180000 / 200000: 2.1042\n",
      "190000 / 200000: 2.1766\n",
      "2.157122850418091\n"
     ]
    }
   ],
   "source": [
    "n_iters = 200000\n",
    "for i in range(n_iters):\n",
    "    # Forward pass\n",
    "    ix = torch.randint(0, Xtr.shape[0], (32,))\n",
    "    xenc = C[Xtr[ix]].view((-1, c_size*block_size))\n",
    "    h = torch.tanh(xenc @ W1 + b1)\n",
    "    logits = h @ W2 + b2\n",
    "    loss = F.cross_entropy(logits, Ytr[ix]) + 0.1 * (W1 ** 2).mean() + 0.1 * (W2 ** 2).mean() + 0.1 * (C ** 2).mean()\n",
    "    #print(loss.item())\n",
    "    # Set grad to 0\n",
    "    for p in params:\n",
    "        p.grad = None\n",
    "    loss.backward()\n",
    "    lr = 0.1 if i < 100000 else 0.01\n",
    "    # track stats\n",
    "    #lri.append(lre[i])\n",
    "    lossi.append(loss.item())\n",
    "    stepi.append(i)\n",
    "    for p in params:\n",
    "        p.data += -lr * p.grad\n",
    "\n",
    "    if i % 10000 == 0:\n",
    "        print(f'{i} / {n_iters}: {loss.item():.4f}')\n",
    "print(loss.item())"
   ]
  },
  {
   "cell_type": "code",
   "execution_count": 986,
   "id": "6b605ba0-109c-4eb3-92f9-1051bc2450f7",
   "metadata": {},
   "outputs": [
    {
     "data": {
      "text/plain": [
       "[<matplotlib.lines.Line2D at 0x2563fa06f90>]"
      ]
     },
     "execution_count": 986,
     "metadata": {},
     "output_type": "execute_result"
    },
    {
     "data": {
      "image/png": "[encoded data removed]",
      "text/plain": [
       "<Figure size 640x480 with 1 Axes>"
      ]
     },
     "metadata": {},
     "output_type": "display_data"
    }
   ],
   "source": [
    "plt.plot(stepi, lossi)"
   ]
  },
  {
   "cell_type": "code",
   "execution_count": 987,
   "id": "067975a6-c4ec-4797-bb52-4b39cb88f2c6",
   "metadata": {},
   "outputs": [],
   "source": [
    "def eval(X,Y):\n",
    "    # evalualte loss on train sample\n",
    "    xenc = C[X].view((-1, c_size*block_size))\n",
    "    h = torch.tanh(xenc @ W1 + b1)\n",
    "    logits = h @ W2 + b2\n",
    "    return F.cross_entropy(logits, Y)\n"
   ]
  },
  {
   "cell_type": "code",
   "execution_count": 1088,
   "id": "27ccd91f-99f5-421b-8f3b-38b430225ef4",
   "metadata": {},
   "outputs": [
    {
     "name": "stdout",
     "output_type": "stream",
     "text": [
      "tensor(2.1592, grad_fn=<NllLossBackward0>)\n"
     ]
    }
   ],
   "source": [
    "# evalualte loss on train sample\n",
    "print(eval(Xtr, Ytr))"
   ]
  },
  {
   "cell_type": "code",
   "execution_count": 1089,
   "id": "844c4a67-4912-423e-8845-3eeedcf9872a",
   "metadata": {},
   "outputs": [
    {
     "name": "stdout",
     "output_type": "stream",
     "text": [
      "tensor(2.1745, grad_fn=<NllLossBackward0>)\n"
     ]
    }
   ],
   "source": [
    "# evalualte loss on dev sample\n",
    "print(eval(Xdev, Ydev))"
   ]
  },
  {
   "cell_type": "code",
   "execution_count": 449,
   "id": "ac413834-5525-4cdd-998b-f1db8405c025",
   "metadata": {},
   "outputs": [
    {
     "data": {
      "image/png": "[encoded data removed]",
      "text/plain": [
       "<Figure size 800x800 with 1 Axes>"
      ]
     },
     "metadata": {},
     "output_type": "display_data"
    }
   ],
   "source": [
    "plt.figure(figsize=(8,8))\n",
    "plt.scatter(C[:,0].data, C[:,1].data,s=200)\n",
    "for i in range(C.shape[0]):\n",
    "    plt.text(C[i,0].item(), C[i,1].item(), itos[i], ha='center', va='center', color='white')\n",
    "plt.grid('minor')"
   ]
  },
  {
   "cell_type": "code",
   "execution_count": 1010,
   "id": "9a0fa3b6-7cb8-436d-a090-b5e30837447a",
   "metadata": {},
   "outputs": [
    {
     "name": "stdout",
     "output_type": "stream",
     "text": [
      "tensor(2.3608, grad_fn=<NllLossBackward0>)\n"
     ]
    }
   ],
   "source": [
    "# evalualte loss on test sample\n",
    "print(eval(Xtest, Ytest))"
   ]
  },
  {
   "cell_type": "code",
   "execution_count": 230,
   "id": "b0e95348-0db0-41d8-bd11-bd127c6ef202",
   "metadata": {},
   "outputs": [
    {
     "data": {
      "text/plain": [
       "0"
      ]
     },
     "execution_count": 230,
     "metadata": {},
     "output_type": "execute_result"
    }
   ],
   "source": [
    "ix"
   ]
  },
  {
   "cell_type": "code",
   "execution_count": 289,
   "id": "969de969-60d2-4b4c-8663-4e749890218e",
   "metadata": {},
   "outputs": [
    {
     "data": {
      "text/plain": [
       "[<matplotlib.lines.Line2D at 0x2561c5c0080>]"
      ]
     },
     "execution_count": 289,
     "metadata": {},
     "output_type": "execute_result"
    },
    {
     "data": {
      "image/png": "[encoded data removed]",
      "text/plain": [
       "<Figure size 640x480 with 1 Axes>"
      ]
     },
     "metadata": {},
     "output_type": "display_data"
    }
   ],
   "source": [
    "plt.plot(lri, lossi)"
   ]
  },
  {
   "cell_type": "code",
   "execution_count": 922,
   "id": "8bf381f9-f10b-4eec-9271-2ac20efdeb2c",
   "metadata": {},
   "outputs": [
    {
     "data": {
      "text/plain": [
       "tensor([[3.1192e-05, 1.3759e-01, 4.0767e-02, 4.8129e-02, 5.2745e-02, 4.7785e-02,\n",
       "         1.3038e-02, 2.0898e-02, 2.7293e-02, 1.8465e-02, 7.5577e-02, 9.2452e-02,\n",
       "         4.9064e-02, 7.9195e-02, 3.5777e-02, 1.2321e-02, 1.6095e-02, 2.9008e-03,\n",
       "         5.1154e-02, 6.4130e-02, 4.0830e-02, 2.4641e-03, 1.1759e-02, 9.6070e-03,\n",
       "         4.2109e-03, 1.6719e-02, 2.9008e-02],\n",
       "        [3.1192e-05, 1.3759e-01, 4.0767e-02, 4.8129e-02, 5.2745e-02, 4.7785e-02,\n",
       "         1.3038e-02, 2.0898e-02, 2.7293e-02, 1.8465e-02, 7.5577e-02, 9.2452e-02,\n",
       "         4.9064e-02, 7.9195e-02, 3.5777e-02, 1.2321e-02, 1.6095e-02, 2.9008e-03,\n",
       "         5.1154e-02, 6.4130e-02, 4.0830e-02, 2.4641e-03, 1.1759e-02, 9.6070e-03,\n",
       "         4.2109e-03, 1.6719e-02, 2.9008e-02]])"
      ]
     },
     "execution_count": 922,
     "metadata": {},
     "output_type": "execute_result"
    }
   ],
   "source": [
    "P[context[:2]]"
   ]
  },
  {
   "cell_type": "code",
   "execution_count": 925,
   "id": "a552aa0a-098c-477f-a01c-e6abae8d546f",
   "metadata": {},
   "outputs": [
    {
     "data": {
      "text/plain": [
       "tensor([[-7.4414,  1.9809,  0.8409,  0.9619,  0.9919,  0.7857, -0.3243,  0.1218,\n",
       "          0.3096, -0.0421,  1.4364,  1.5556,  0.7574,  1.5410,  0.5295, -0.5842,\n",
       "         -0.1447, -1.8776,  0.9349,  1.2480,  0.7401, -2.1880, -0.6192, -0.7543,\n",
       "         -1.5366, -0.2337,  0.3593]], grad_fn=<AddBackward0>)"
      ]
     },
     "execution_count": 925,
     "metadata": {},
     "output_type": "execute_result"
    }
   ],
   "source": [
    "logits"
   ]
  },
  {
   "cell_type": "code",
   "execution_count": 932,
   "id": "225d5475-e217-4315-9b67-a78af1b1ea9b",
   "metadata": {},
   "outputs": [
    {
     "data": {
      "text/plain": [
       "tensor(3.1192e-05)"
      ]
     },
     "execution_count": 932,
     "metadata": {},
     "output_type": "execute_result"
    }
   ],
   "source": [
    "P[context[-2], context[-1]]"
   ]
  },
  {
   "cell_type": "code",
   "execution_count": 930,
   "id": "7fd957f9-3a6c-46a4-a98e-2ddaeb7de424",
   "metadata": {},
   "outputs": [
    {
     "data": {
      "text/plain": [
       "[0, 0, 0]"
      ]
     },
     "execution_count": 930,
     "metadata": {},
     "output_type": "execute_result"
    }
   ],
   "source": [
    "context"
   ]
  },
  {
   "cell_type": "code",
   "execution_count": 924,
   "id": "ec5462b5-9453-4a28-90b8-af88ec524c68",
   "metadata": {},
   "outputs": [
    {
     "data": {
      "text/plain": [
       "torch.Size([1, 27])"
      ]
     },
     "execution_count": 924,
     "metadata": {},
     "output_type": "execute_result"
    }
   ],
   "source": [
    "F.softmax(logits, dim=1).shape"
   ]
  },
  {
   "cell_type": "code",
   "execution_count": 937,
   "id": "7b61576e-32d5-4479-871a-d486599119ca",
   "metadata": {},
   "outputs": [
    {
     "data": {
      "text/plain": [
       "tensor(3.1192e-05)"
      ]
     },
     "execution_count": 937,
     "metadata": {},
     "output_type": "execute_result"
    }
   ],
   "source": [
    "P[context[-2], context[-1]]"
   ]
  },
  {
   "cell_type": "code",
   "execution_count": 1091,
   "id": "a6705758-fcc3-4a09-b8d7-aa9a87217295",
   "metadata": {},
   "outputs": [
    {
     "name": "stdout",
     "output_type": "stream",
     "text": [
      "junide.\n",
      "jakarie.\n",
      "prosaywel.\n",
      "makshir.\n",
      "tolian.\n",
      "juem.\n",
      "kalinaa.\n",
      "zamilena.\n",
      "jedbyaine.\n",
      "imbresson.\n",
      "evy.\n",
      "arten.\n",
      "nveumarif.\n",
      "demmericynsleigh.\n",
      "ani.\n",
      "core.\n",
      "yae.\n",
      "ockayda.\n",
      "brine.\n",
      "kolin.\n",
      "wynin.\n",
      "ana.\n",
      "saravilanna.\n",
      "shadion.\n",
      "matta.\n",
      "ilu.\n",
      "reniel.\n",
      "that.\n",
      "jayreli.\n",
      "isa.\n",
      "dyn.\n",
      "rujeani.\n",
      "mah.\n",
      "dawyan.\n",
      "kha.\n",
      "cramr.\n",
      "jenh.\n",
      "adorta.\n",
      "malyn.\n",
      "bal.\n",
      "haur.\n",
      "lavaroni.\n",
      "themielya.\n",
      "ath.\n",
      "baston.\n",
      "tavilitike.\n",
      "salee.\n",
      "marlen.\n",
      "ema.\n",
      "malenella.\n"
     ]
    }
   ],
   "source": [
    "# Sample from network\n",
    "g = torch.Generator().manual_seed(2147483647)\n",
    "for i in range(50):\n",
    "    context = [0] * block_size\n",
    "    out = ''\n",
    "    ix=0\n",
    "    while True:\n",
    "        # Forward pass\n",
    "        xenc = C[context].view((-1, c_size*block_size))\n",
    "        h = torch.tanh(xenc @ W1 + b1)\n",
    "        logits = h @ W2 + b2\n",
    "        p =F.softmax(logits, dim=1)\n",
    "        ix = torch.multinomial(p, num_samples=1, replacement=True, generator=g).item()\n",
    "        out += itos[ix]\n",
    "        context = context[1:] + [ix]\n",
    "        if(ix == 0):\n",
    "            res.append(out)\n",
    "            break\n",
    "    print(out)"
   ]
  },
  {
   "cell_type": "code",
   "execution_count": null,
   "id": "0c04af5a-fa0e-4065-ab3a-320c154531e0",
   "metadata": {},
   "outputs": [],
   "source": []
  }
 ],
 "metadata": {
  "kernelspec": {
   "display_name": "Python 3 (ipykernel)",
   "language": "python",
   "name": "python3"
  },
  "language_info": {
   "codemirror_mode": {
    "name": "ipython",
    "version": 3
   },
   "file_extension": ".py",
   "mimetype": "text/x-python",
   "name": "python",
   "nbconvert_exporter": "python",
   "pygments_lexer": "ipython3",
   "version": "3.12.2"
  }
 },
 "nbformat": 4,
 "nbformat_minor": 5
}
